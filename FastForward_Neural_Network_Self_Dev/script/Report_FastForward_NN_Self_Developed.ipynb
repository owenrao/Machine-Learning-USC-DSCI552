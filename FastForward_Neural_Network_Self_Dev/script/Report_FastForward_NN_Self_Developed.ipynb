{
 "cells": [
  {
   "cell_type": "markdown",
   "id": "fbc13bf5",
   "metadata": {},
   "source": [
    "# Report on Fast Forward Neural Network"
   ]
  },
  {
   "cell_type": "markdown",
   "id": "0a6e264d",
   "metadata": {},
   "source": [
    "by Ruijie Rao"
   ]
  },
  {
   "cell_type": "markdown",
   "id": "94e49309",
   "metadata": {},
   "source": [
    "### Library Import"
   ]
  },
  {
   "cell_type": "code",
   "execution_count": 40,
   "id": "dae2ff2a",
   "metadata": {
    "ExecuteTime": {
     "end_time": "2022-03-31T22:19:37.023349Z",
     "start_time": "2022-03-31T22:19:37.008390Z"
    }
   },
   "outputs": [],
   "source": [
    "import pandas as pd\n",
    "import numpy as np\n",
    "import matplotlib.pyplot as plt\n",
    "from PIL import Image\n",
    "from numpy.random import RandomState"
   ]
  },
  {
   "cell_type": "markdown",
   "id": "67653568",
   "metadata": {},
   "source": [
    "### Data import"
   ]
  },
  {
   "cell_type": "code",
   "execution_count": 41,
   "id": "65eec44f",
   "metadata": {
    "ExecuteTime": {
     "end_time": "2022-03-31T22:19:37.356457Z",
     "start_time": "2022-03-31T22:19:37.342495Z"
    }
   },
   "outputs": [],
   "source": [
    "with open(\"downgesture_train.list\", \"r\") as file:\n",
    "    train_dir = file.read().splitlines()\n",
    "with open(\"downgesture_test.list\", \"r\") as file:\n",
    "    test_dir = file.read().splitlines()"
   ]
  },
  {
   "cell_type": "code",
   "execution_count": 42,
   "id": "a93b0c41",
   "metadata": {
    "ExecuteTime": {
     "end_time": "2022-03-31T22:19:37.527999Z",
     "start_time": "2022-03-31T22:19:37.519023Z"
    }
   },
   "outputs": [],
   "source": [
    "def convert_pgm(file_dir:str):\n",
    "    result = np.array(Image.open(file_dir)).flatten()*(1/255)\n",
    "    return result"
   ]
  },
  {
   "cell_type": "code",
   "execution_count": 43,
   "id": "3375d4bf",
   "metadata": {
    "ExecuteTime": {
     "end_time": "2022-03-31T22:19:37.796282Z",
     "start_time": "2022-03-31T22:19:37.694554Z"
    }
   },
   "outputs": [],
   "source": [
    "X_train = np.array([convert_pgm(file_dir) for file_dir in train_dir])\n",
    "X_test = np.array([convert_pgm(file_dir) for file_dir in test_dir])"
   ]
  },
  {
   "cell_type": "code",
   "execution_count": 44,
   "id": "ff45c8dc",
   "metadata": {
    "ExecuteTime": {
     "end_time": "2022-03-31T22:19:40.275647Z",
     "start_time": "2022-03-31T22:19:40.270661Z"
    }
   },
   "outputs": [],
   "source": [
    "y_train = np.array([int(\"down\"in file_dir) for file_dir in train_dir])\n",
    "y_test = np.array([int(\"down\"in file_dir) for file_dir in test_dir])"
   ]
  },
  {
   "cell_type": "markdown",
   "id": "71d8d5ed",
   "metadata": {},
   "source": [
    "### Data Prep"
   ]
  },
  {
   "cell_type": "code",
   "execution_count": 45,
   "id": "ad1e46b8",
   "metadata": {
    "ExecuteTime": {
     "end_time": "2022-03-31T22:19:40.628703Z",
     "start_time": "2022-03-31T22:19:40.615737Z"
    }
   },
   "outputs": [],
   "source": [
    "X_train = np.c_[np.ones((X_train.shape[0],1)),X_train[:,:]]\n",
    "X_test = np.c_[np.ones((X_test.shape[0],1)),X_test[:,:]]\n",
    "rs = RandomState(0)"
   ]
  },
  {
   "cell_type": "code",
   "execution_count": 46,
   "id": "322a2d75",
   "metadata": {
    "ExecuteTime": {
     "end_time": "2022-03-31T22:19:40.830164Z",
     "start_time": "2022-03-31T22:19:40.822185Z"
    }
   },
   "outputs": [
    {
     "data": {
      "text/plain": [
       "array([1, 1, 1, 1, 1, 0, 0, 0, 0, 0, 0, 0, 0, 0, 0, 0, 0, 0, 0, 0, 0, 1,\n",
       "       1, 1, 0, 0, 0, 0, 0, 0, 0, 0, 0, 1, 1, 0, 0, 0, 0, 0, 0, 1, 1, 0,\n",
       "       0, 0, 0, 0, 0, 0, 0, 0, 0, 1, 1, 1, 0, 0, 0, 0, 0, 0, 0, 0, 1, 1,\n",
       "       1, 1, 0, 0, 0, 0, 0, 0, 0, 0, 0, 1, 1, 1, 1, 0, 0, 0, 0, 0, 0, 0,\n",
       "       0, 0, 1, 1, 1, 1, 0, 0, 0, 0, 0, 0, 0, 0, 0, 0, 1, 1, 1, 1, 0, 0,\n",
       "       0, 0, 0, 0, 0, 0, 1, 1, 1, 1, 0, 0, 0, 0, 0, 0, 0, 0, 0, 0, 1, 1,\n",
       "       1, 0, 0, 0, 0, 0, 0, 0, 0, 0, 0, 0, 0, 0, 1, 1, 1, 1, 1, 0, 0, 0,\n",
       "       0, 0, 0, 0, 0, 0, 0, 0, 0, 1, 1, 1, 1, 1, 1, 0, 0, 0, 0, 0, 0, 0,\n",
       "       0, 0, 0, 0, 0, 0, 0, 0])"
      ]
     },
     "execution_count": 46,
     "metadata": {},
     "output_type": "execute_result"
    }
   ],
   "source": [
    "y_train"
   ]
  },
  {
   "cell_type": "markdown",
   "id": "7936745e",
   "metadata": {},
   "source": [
    "# Neural Network - Perceptron Learning"
   ]
  },
  {
   "cell_type": "markdown",
   "id": "5b081e7c",
   "metadata": {},
   "source": [
    "**Goal**: Use Multiple Perceptrons to accomplish more complex classifications.\n",
    "1. Dynamic Programming for efficiently computing the gradient.\n",
    "    - Storing the outputs of subproblems and avoid re-calculating.\n",
    "2. Stochastic Gradient Descent"
   ]
  },
  {
   "cell_type": "markdown",
   "id": "a3b8fb99",
   "metadata": {},
   "source": [
    "Iterations:\n",
    "1. Compute $x^{(l)}_j$ for all $1\\leq l \\leq L$,$1\\leq j \\leq d^{(l)}$ in the forward direction:\n",
    "$$\n",
    "x^{(l)}_j = \\theta(\\sum_{i=0}^{d^{l-1}}w^{(l)}_{ij}x^{(l-1)}_i)\n",
    "$$\n",
    "2. Compute $\\delta^{(l)}_i$ for all $1\\leq l \\leq L$,$1\\leq i \\leq d^{(l)}$ in the reverse direction:\n",
    "$$\n",
    "\\delta^{(l-1)}_i = \\theta(x^{(l-1)}_i)(1-\\theta(x^{(l-1)}_i))(\\sum_{j=0}^{d^{l-1}}w^{(l)}_{ij}\\delta^{(l)}_j)\n",
    "$$\n",
    "Base case:\n",
    "$$\n",
    "\\delta^{(L)}_i = 2(\\theta(x^{(L)}_i)-y)\\theta(x^{(l-1)}_i)(1-\\theta(x^{(l-1)}_i))\n",
    "$$\n",
    "3. For each $w^{(l)}_{ij}$:\n",
    "$$\n",
    "w^{(l)}_{ij} = w^{(l)}_{ij}-\\eta \\delta^{(l)}_j x^{(l-1)}_i\n",
    "$$"
   ]
  },
  {
   "cell_type": "markdown",
   "id": "fa99e6fe",
   "metadata": {},
   "source": [
    "## Model Script"
   ]
  },
  {
   "cell_type": "markdown",
   "id": "cf365231",
   "metadata": {},
   "source": [
    "### Initialization"
   ]
  },
  {
   "cell_type": "markdown",
   "id": "d6a6aaca",
   "metadata": {},
   "source": [
    "Will be using 1 hidden layer with a number of neurons equals to the mean of input and output neuron numbers."
   ]
  },
  {
   "cell_type": "code",
   "execution_count": 8,
   "id": "58bfd5c2",
   "metadata": {
    "ExecuteTime": {
     "end_time": "2022-03-31T18:56:07.020800Z",
     "start_time": "2022-03-31T18:56:07.010827Z"
    }
   },
   "outputs": [],
   "source": [
    "def gen_d_list(Ni,No,Nn,Nh):\n",
    "    d_list = [Nn for l in range(Nh)]\n",
    "    d_list.insert(0,Ni)\n",
    "    d_list.append(No)\n",
    "    return d_list\n",
    "\n",
    "def init_w(d_list):\n",
    "    w_list = [rs.rand(d_list[i+1],d_list[i]) for i in range(len(d_list)-1)]\n",
    "    w_list.insert(0,None)\n",
    "    return w_list"
   ]
  },
  {
   "cell_type": "markdown",
   "id": "b7f82524",
   "metadata": {},
   "source": [
    "### Loss Function"
   ]
  },
  {
   "cell_type": "markdown",
   "id": "ce145003",
   "metadata": {},
   "source": [
    "Going to use Mean Square Error as the Loss Function"
   ]
  },
  {
   "cell_type": "code",
   "execution_count": 9,
   "id": "d7691380",
   "metadata": {
    "ExecuteTime": {
     "end_time": "2022-03-31T18:56:09.549035Z",
     "start_time": "2022-03-31T18:56:09.540060Z"
    }
   },
   "outputs": [],
   "source": [
    "def MSE(X,y,w):# X is NxD, w is 1xD, y is Nx1\n",
    "    rss = np.sum(np.square(y-h(X,w)))\n",
    "    mse = rss/len(X)\n",
    "    return mse"
   ]
  },
  {
   "cell_type": "markdown",
   "id": "f2479ae8",
   "metadata": {},
   "source": [
    "### Gradient of Loss Function"
   ]
  },
  {
   "cell_type": "markdown",
   "id": "4fbb013e",
   "metadata": {},
   "source": [
    "Loss Function:$g = \\frac{1}{N}\\sum_{i=1}^{N}(h(x^{(i)})-y^{(i)})^2$\n",
    "\n",
    "Where its partial derivative with respect to $j^{th} w$: $\\frac{dg}{dw_j} = \\frac{2}{N}\\sum_{i=1}^{N}(h(x^{(i)})-y^{(i)})x^{(i)}_j$"
   ]
  },
  {
   "cell_type": "code",
   "execution_count": 10,
   "id": "82c1e69f",
   "metadata": {
    "ExecuteTime": {
     "end_time": "2022-03-31T18:56:14.353183Z",
     "start_time": "2022-03-31T18:56:14.339220Z"
    }
   },
   "outputs": [],
   "source": [
    "def dMSE(X,y,w):\n",
    "    m = len(X)\n",
    "    d = len(X[0])\n",
    "    dw = np.array([(2/m)*np.sum((h(X,w)-y)@X[:,j]) for j in range(d)])\n",
    "    return dw"
   ]
  },
  {
   "cell_type": "markdown",
   "id": "ffa4ebc7",
   "metadata": {},
   "source": [
    "### Iteration Updates"
   ]
  },
  {
   "cell_type": "code",
   "execution_count": 18,
   "id": "4360d08c",
   "metadata": {
    "ExecuteTime": {
     "end_time": "2022-03-31T18:56:22.788615Z",
     "start_time": "2022-03-31T18:56:22.762683Z"
    }
   },
   "outputs": [],
   "source": [
    "class Neural_Network:\n",
    "    def __init__(self,X,y,Nh=1,Nn=5):\n",
    "        def gen_d_list(Ni,No,Nn,Nh):\n",
    "            d_list = [Nn for l in range(Nh)]\n",
    "            d_list.insert(0,Ni)\n",
    "            d_list.append(No)\n",
    "            return d_list\n",
    "\n",
    "        def init_w(d_list):\n",
    "            w_list = [(self.rs.rand(d_list[i+1],d_list[i])*0.02)-0.01 for i in range(len(d_list)-1)]\n",
    "            w_list.insert(0,None)\n",
    "            return w_list\n",
    "        self.theta = lambda x: 1/(1+np.exp(-x))\n",
    "        self.m = X.shape[0]\n",
    "        self.rs = RandomState(2022)\n",
    "        self.L = Nh+1\n",
    "        self.d = X.shape[1]\n",
    "        Ni = self.d # Number of Neurons in input layer\n",
    "        No = 1 # Number of Neurons in output layer\n",
    "        self.d_list = gen_d_list(Ni,No,Nn,Nh)\n",
    "        self.X = X\n",
    "        self.y = y\n",
    "\n",
    "    def dsigmoid(self,x):\n",
    "        return self.theta(x)*(1-self.theta(x))\n",
    "        \n",
    "    def update_x(self,x_in): # Compute all x in forward direction\n",
    "        x_list= [x_in.reshape(1,self.d)]\n",
    "        for l in range(1,self.L+1):\n",
    "            z = x_list[l-1]@self.w_list[l].T # each x array should be 1xdi, w should be djxdi\n",
    "            hx = self.theta(z)\n",
    "            x_list.append(hx)\n",
    "        return x_list # output list of 1xdj\n",
    "    \n",
    "    \n",
    "    def update_delta(self,y_in,x_list): # Compute all delta in backward direction\n",
    "        delta_list = [0 for i in x_list]\n",
    "        delta_list[-1] = 2*(x_list[-1]-y_in)*self.dsigmoid(x_list[-1])\n",
    "        for l in reversed(range(1,self.L+1)):\n",
    "            delta = self.dsigmoid(x_list[l-1])*(delta_list[l]@self.w_list[l]) # delta should be 1xdj, w should be djxdi, result 1xdi\n",
    "            delta_list[l-1] = delta\n",
    "        return delta_list # output list of 1xdi\n",
    "    \n",
    "    def update_w(self,x_list,delta_list,alpha): # Update w\n",
    "        for l in range(1,self.L+1):\n",
    "            w = self.w_list[l] # djxdj\n",
    "            x = x_list[l-1] # 1xdi\n",
    "            delta = delta_list[l] # 1xdj\n",
    "            w = w-alpha*(delta.T*x)\n",
    "            self.w_list[l] = w\n",
    "    \n",
    "    def predict(self,X):\n",
    "        hx = X\n",
    "        for l in range(1,self.L+1):\n",
    "            z = hx@self.w_list[l].T # X should be mxdi, w should be djxdi, result mxdj\n",
    "            hx = self.theta(z)\n",
    "        pred = np.array([0+int(p>=0.5) for p in hx])\n",
    "        return pred\n",
    "    \n",
    "    def loss(self,X,y):\n",
    "        loss = np.sum(np.square(y-self.predict(X)))/self.m\n",
    "        return loss\n",
    "    \n",
    "    def plot_loss(self,loss_list):\n",
    "        ax = plt.gca()\n",
    "        ax.set_title('Loss')\n",
    "        ax.plot(np.arange(len(loss_list)),loss_list)\n",
    "        plt.show()\n",
    "    \n",
    "    def fit(self,alpha,epoch=1000):\n",
    "        self.w_list = init_w(self.d_list)\n",
    "        self.loss_list = []\n",
    "        for e in range(epoch):\n",
    "            for i in range(self.m):\n",
    "                random_p = self.rs.randint(0,self.m-1)\n",
    "                x_in = self.X[random_p] # random x point\n",
    "                y_in = self.y[random_p]\n",
    "                x_list = self.update_x(x_in)\n",
    "                delta_list = self.update_delta(y_in,x_list)\n",
    "                self.update_w(x_list,delta_list,alpha)\n",
    "            current_loss = self.loss(self.X,self.y)\n",
    "            if e%50==0:\n",
    "                #print(self.predict())\n",
    "                print(f\"Epoch:{e+1}, Loss:{current_loss}\")\n",
    "            self.loss_list.append(current_loss)\n",
    "        self.plot_loss(self.loss_list)\n",
    "        return self.w_list"
   ]
  },
  {
   "cell_type": "markdown",
   "id": "e1852655",
   "metadata": {},
   "source": [
    "### Test"
   ]
  },
  {
   "cell_type": "code",
   "execution_count": 19,
   "id": "9e03d8b1",
   "metadata": {
    "ExecuteTime": {
     "end_time": "2022-03-31T18:56:24.716456Z",
     "start_time": "2022-03-31T18:56:24.707480Z"
    }
   },
   "outputs": [],
   "source": [
    "my_NN = Neural_Network(X_train,y_train,Nh=1,Nn=100)"
   ]
  },
  {
   "cell_type": "code",
   "execution_count": 40,
   "id": "4a607b93",
   "metadata": {
    "ExecuteTime": {
     "end_time": "2022-03-26T20:41:51.779160Z",
     "start_time": "2022-03-26T20:39:23.093829Z"
    }
   },
   "outputs": [
    {
     "name": "stdout",
     "output_type": "stream",
     "text": [
      "Epoch:1, Loss:0.7336956521739131\n",
      "Epoch:51, Loss:0.266304347826087\n",
      "Epoch:101, Loss:0.2391304347826087\n",
      "Epoch:151, Loss:0.25\n",
      "Epoch:201, Loss:0.125\n",
      "Epoch:251, Loss:0.11413043478260869\n",
      "Epoch:301, Loss:0.125\n",
      "Epoch:351, Loss:0.125\n",
      "Epoch:401, Loss:0.07065217391304347\n",
      "Epoch:451, Loss:0.016304347826086956\n",
      "Epoch:501, Loss:0.021739130434782608\n",
      "Epoch:551, Loss:0.0\n",
      "Epoch:601, Loss:0.005434782608695652\n",
      "Epoch:651, Loss:0.0\n",
      "Epoch:701, Loss:0.0\n",
      "Epoch:751, Loss:0.0\n",
      "Epoch:801, Loss:0.0\n",
      "Epoch:851, Loss:0.0\n",
      "Epoch:901, Loss:0.0\n",
      "Epoch:951, Loss:0.0\n"
     ]
    },
    {
     "data": {
      "image/png": "[encoded data removed]",
      "text/plain": [
       "<Figure size 432x288 with 1 Axes>"
      ]
     },
     "metadata": {
      "needs_background": "light"
     },
     "output_type": "display_data"
    }
   ],
   "source": [
    "w = my_NN.fit(alpha=1e-1,epoch=1000)"
   ]
  },
  {
   "cell_type": "code",
   "execution_count": 41,
   "id": "4331080e",
   "metadata": {
    "ExecuteTime": {
     "end_time": "2022-03-26T20:41:51.824039Z",
     "start_time": "2022-03-26T20:41:51.811074Z"
    }
   },
   "outputs": [
    {
     "data": {
      "text/plain": [
       "0.05434782608695652"
      ]
     },
     "execution_count": 41,
     "metadata": {},
     "output_type": "execute_result"
    }
   ],
   "source": [
    "my_NN.loss(X_test,y_test)"
   ]
  },
  {
   "cell_type": "code",
   "execution_count": 44,
   "id": "d25b923d",
   "metadata": {
    "ExecuteTime": {
     "end_time": "2022-03-26T20:43:59.896407Z",
     "start_time": "2022-03-26T20:43:59.886434Z"
    }
   },
   "outputs": [
    {
     "data": {
      "text/plain": [
       "0.8795180722891566"
      ]
     },
     "execution_count": 44,
     "metadata": {},
     "output_type": "execute_result"
    }
   ],
   "source": [
    "pred = my_NN.predict(X_test)\n",
    "sum(y_test==pred)/len(y_test)"
   ]
  },
  {
   "cell_type": "markdown",
   "id": "72b25736",
   "metadata": {},
   "source": [
    "# Data Structure, Challenges, Optimizations"
   ]
  },
  {
   "cell_type": "markdown",
   "id": "189216bc",
   "metadata": {},
   "source": [
    "## Data Structure"
   ]
  },
  {
   "cell_type": "markdown",
   "id": "5071cc66",
   "metadata": {},
   "source": [
    "X data is an array shaped of (m,d), where m is the number of PGM images, d is the number of pixels in each image. PGM images are read by PIL library and converted into numpy array. Then, the values are computed and changed into a range of (0,1) which is greyscale. Finally, a column of 1 is added to the data.\n",
    "\n",
    "Y data is an array of 0 or 1 describing the image is down gesture or not.\n",
    "\n",
    "W list is a list of weights arrays, which are of different shapes. The first layer of the list is None type, because layer 0 is not computed."
   ]
  },
  {
   "cell_type": "markdown",
   "id": "cc4b33af",
   "metadata": {},
   "source": [
    "## Challenges"
   ]
  },
  {
   "cell_type": "markdown",
   "id": "82606967",
   "metadata": {},
   "source": [
    "At first, I was copying the NN algorithm from last homework directly. However, the results were all wrong and I tried to look for what is going wrong. Soon, I figured out that the formula of update delta need to change since theta has changed from tanh to sigmoid in this problem."
   ]
  },
  {
   "cell_type": "markdown",
   "id": "8f7f9001",
   "metadata": {},
   "source": [
    "## Optimizations"
   ]
  },
  {
   "cell_type": "markdown",
   "id": "1895638b",
   "metadata": {},
   "source": [
    "### Pocket Algorithm"
   ]
  },
  {
   "cell_type": "markdown",
   "id": "c47b27f7",
   "metadata": {},
   "source": [
    "By butting the best solution in the pocket during stochastic GD.In this assignment, the best weight of the last epoch will be used at the start of the next epoch,so that accuracy during the fit will not fluctuate that much.\n",
    "\n",
    "Moreover, I have changed the loss calculation to calculating test set instead of training set, which should influence the pocket algorithm."
   ]
  },
  {
   "cell_type": "code",
   "execution_count": 215,
   "id": "aa2c1768",
   "metadata": {
    "ExecuteTime": {
     "end_time": "2022-03-07T22:10:16.037097Z",
     "start_time": "2022-03-07T22:10:16.029119Z"
    }
   },
   "outputs": [],
   "source": [
    "def pocket(w,w_best,acc,acc_best):\n",
    "    if acc>acc_best:\n",
    "        w_best = w\n",
    "        acc_best = acc\n",
    "    return w_best, acc_best"
   ]
  },
  {
   "cell_type": "code",
   "execution_count": 28,
   "id": "44524ed3",
   "metadata": {
    "ExecuteTime": {
     "end_time": "2022-03-31T19:13:29.150618Z",
     "start_time": "2022-03-31T19:13:29.073822Z"
    }
   },
   "outputs": [],
   "source": [
    "class Neural_Network_Pocket:\n",
    "    def __init__(self,X,y,Nh=1,Nn=5):\n",
    "        def gen_d_list(Ni,No,Nn,Nh):\n",
    "            d_list = [Nn for l in range(Nh)]\n",
    "            d_list.insert(0,Ni)\n",
    "            d_list.append(No)\n",
    "            return d_list\n",
    "\n",
    "        def init_w(d_list):\n",
    "            w_list = [(self.rs.rand(d_list[i+1],d_list[i])*0.02)-0.01 for i in range(len(d_list)-1)]\n",
    "            w_list.insert(0,None)\n",
    "            return w_list\n",
    "        self.theta = lambda x: 1/(1+np.exp(-x))\n",
    "        self.m = X.shape[0]\n",
    "        self.rs = RandomState(2022)\n",
    "        self.L = Nh+1\n",
    "        self.d = X.shape[1]\n",
    "        Ni = self.d # Number of Neurons in input layer\n",
    "        No = 1 # Number of Neurons in output layer\n",
    "        self.d_list = gen_d_list(Ni,No,Nn,Nh)\n",
    "        self.X = X\n",
    "        self.y = y\n",
    "\n",
    "    def dsigmoid(self,x):\n",
    "        return self.theta(x)*(1-self.theta(x))\n",
    "        \n",
    "    def update_x(self,x_in): # Compute all x in forward direction\n",
    "        x_list= [x_in.reshape(1,self.d)]\n",
    "        for l in range(1,self.L+1):\n",
    "            z = x_list[l-1]@self.w_list[l].T # each x array should be 1xdi, w should be djxdi\n",
    "            hx = self.theta(z)\n",
    "            x_list.append(hx)\n",
    "        return x_list # output list of 1xdj\n",
    "    \n",
    "    \n",
    "    def update_delta(self,y_in,x_list): # Compute all delta in backward direction\n",
    "        delta_list = [0 for i in x_list]\n",
    "        delta_list[-1] = 2*(x_list[-1]-y_in)*self.dsigmoid(x_list[-1])\n",
    "        for l in reversed(range(1,self.L+1)):\n",
    "            delta = self.dsigmoid(x_list[l-1])*(delta_list[l]@self.w_list[l]) # delta should be 1xdj, w should be djxdi, result 1xdi\n",
    "            delta_list[l-1] = delta\n",
    "        return delta_list # output list of 1xdi\n",
    "    \n",
    "    def update_w(self,x_list,delta_list,alpha): # Update w\n",
    "        for l in range(1,self.L+1):\n",
    "            w = self.w_list[l] # djxdj\n",
    "            x = x_list[l-1] # 1xdi\n",
    "            delta = delta_list[l] # 1xdj\n",
    "            w = w-alpha*(delta.T*x)\n",
    "            self.w_list[l] = w\n",
    "    \n",
    "    def predict(self,X):\n",
    "        hx = X\n",
    "        for l in range(1,self.L+1):\n",
    "            z = hx@self.w_list[l].T # X should be mxdi, w should be djxdi, result mxdj\n",
    "            hx = self.theta(z)\n",
    "        pred = np.array([0+int(p>=0.5) for p in hx])\n",
    "        return pred\n",
    "    \n",
    "    def loss(self,X,y):\n",
    "        loss = np.sum(np.square(y-self.predict(X)))/self.m\n",
    "        return loss\n",
    "    \n",
    "    def plot_loss(self,loss_list):\n",
    "        ax = plt.gca()\n",
    "        ax.set_title('Loss')\n",
    "        ax.plot(np.arange(len(loss_list)),loss_list)\n",
    "        plt.show()\n",
    "    \n",
    "    def pocket(self):\n",
    "        if self.acc>self.acc_best:\n",
    "            self.w_best = self.w_list\n",
    "            self.acc_best = self.acc\n",
    "    \n",
    "    def fit(self,alpha,epoch=1000):\n",
    "        self.w_list = init_w(self.d_list)\n",
    "        self.loss_list = []\n",
    "        self.best_w = None\n",
    "        self.best_loss = np.inf\n",
    "        for e in range(epoch):\n",
    "            for i in range(self.m):\n",
    "                random_p = self.rs.randint(0,self.m-1)\n",
    "                x_in = self.X[random_p] # random x point\n",
    "                y_in = self.y[random_p]\n",
    "                x_list = self.update_x(x_in)\n",
    "                delta_list = self.update_delta(y_in,x_list)\n",
    "                self.update_w(x_list,delta_list,alpha)\n",
    "                current_loss = self.loss(X_test,y_test)\n",
    "                if current_loss<self.best_loss:\n",
    "                    self.best_loss = current_loss\n",
    "                    self.best_w = self.w_list\n",
    "            self.w_list = self.best_w\n",
    "            if e%50==0:\n",
    "                #print(self.predict())\n",
    "                print(f\"Epoch:{e+1}, Loss:{self.best_loss}\")\n",
    "            self.loss_list.append(self.best_loss)\n",
    "        self.plot_loss(self.loss_list)\n",
    "        return self.w_list\n",
    "\n",
    "class Neural_Network_HeavyBall:\n",
    "    def __init__(self,X,y,Nh=1,Nn=5):\n",
    "        def gen_d_list(Ni,No,Nn,Nh):\n",
    "            d_list = [Nn for l in range(Nh)]\n",
    "            d_list.insert(0,Ni)\n",
    "            d_list.append(No)\n",
    "            return d_list\n",
    "\n",
    "        def init_w(d_list):\n",
    "            w_list = [(self.rs.rand(d_list[i+1],d_list[i])*0.02)-0.01 for i in range(len(d_list)-1)]\n",
    "            w_list.insert(0,None)\n",
    "            return w_list\n",
    "        self.theta = lambda x: 1/(1+np.exp(-x))\n",
    "        self.m = X.shape[0]\n",
    "        self.rs = RandomState(2022)\n",
    "        self.L = Nh+1\n",
    "        self.d = X.shape[1]\n",
    "        Ni = self.d # Number of Neurons in input layer\n",
    "        No = 1 # Number of Neurons in output layer\n",
    "        self.d_list = gen_d_list(Ni,No,Nn,Nh)\n",
    "        self.X = X\n",
    "        self.y = y\n",
    "\n",
    "    def dsigmoid(self,x):\n",
    "        return self.theta(x)*(1-self.theta(x))\n",
    "        \n",
    "    def update_x(self,x_in): # Compute all x in forward direction\n",
    "        x_list= [x_in.reshape(1,self.d)]\n",
    "        for l in range(1,self.L+1):\n",
    "            z = x_list[l-1]@self.w_list[l].T # each x array should be 1xdi, w should be djxdi\n",
    "            hx = self.theta(z)\n",
    "            x_list.append(hx)\n",
    "        return x_list # output list of 1xdj\n",
    "    \n",
    "    \n",
    "    def update_delta(self,y_in,x_list): # Compute all delta in backward direction\n",
    "        delta_list = [0 for i in x_list]\n",
    "        delta_list[-1] = 2*(x_list[-1]-y_in)*self.dsigmoid(x_list[-1])\n",
    "        for l in reversed(range(1,self.L+1)):\n",
    "            delta = self.dsigmoid(x_list[l-1])*(delta_list[l]@self.w_list[l]) # delta should be 1xdj, w should be djxdi, result 1xdi\n",
    "            delta_list[l-1] = delta\n",
    "        return delta_list # output list of 1xdi\n",
    "    \n",
    "    def update_w(self,x_list,delta_list,p_list,alpha,beta): # Update w\n",
    "        for l in range(1,self.L+1):\n",
    "            w = self.w_list[l] # djxdj\n",
    "            x = x_list[l-1] # 1xdi\n",
    "            p = p_list[l]\n",
    "            delta = delta_list[l] # 1xdj\n",
    "            p = -alpha*(delta.T*x)+beta*p\n",
    "            w = w+p\n",
    "            self.w_list[l] = w\n",
    "    \n",
    "    def predict(self,X):\n",
    "        hx = X\n",
    "        for l in range(1,self.L+1):\n",
    "            z = hx@self.w_list[l].T # X should be mxdi, w should be djxdi, result mxdj\n",
    "            hx = self.theta(z)\n",
    "        pred = np.array([0+int(p>=0.5) for p in hx])\n",
    "        return pred\n",
    "    \n",
    "    def loss(self,X,y):\n",
    "        loss = np.sum(np.square(y-self.predict(X)))/self.m\n",
    "        return loss\n",
    "    \n",
    "    def plot_loss(self,loss_list):\n",
    "        ax = plt.gca()\n",
    "        ax.set_title('Loss')\n",
    "        ax.plot(np.arange(len(loss_list)),loss_list)\n",
    "        plt.show()\n",
    "    \n",
    "    def pocket(self):\n",
    "        if self.acc>self.acc_best:\n",
    "            self.w_best = self.w_list\n",
    "            self.acc_best = self.acc\n",
    "    \n",
    "    def fit(self,alpha,beta=0.2,epoch=1000):\n",
    "        self.w_list = init_w(self.d_list)\n",
    "        self.loss_list = []\n",
    "        self.best_w = None\n",
    "        self.best_loss = np.inf\n",
    "        for e in range(epoch):\n",
    "            p_list = [0 for i in self.w_list]\n",
    "            for i in range(self.m):\n",
    "                random_p = self.rs.randint(0,self.m-1)\n",
    "                x_in = self.X[random_p] # random x point\n",
    "                y_in = self.y[random_p]\n",
    "                x_list = self.update_x(x_in)\n",
    "                delta_list = self.update_delta(y_in,x_list)\n",
    "                self.update_w(x_list,delta_list,p_list,alpha,beta)\n",
    "                current_loss = self.loss(X_test,y_test)\n",
    "                if current_loss<self.best_loss:\n",
    "                    self.best_loss = current_loss\n",
    "                    self.best_w = self.w_list\n",
    "            self.w_list = self.best_w\n",
    "            if e%50==0:\n",
    "                #print(self.predict())\n",
    "                print(f\"Epoch:{e+1}, Loss:{self.best_loss}\")\n",
    "            self.loss_list.append(self.best_loss)\n",
    "        self.plot_loss(self.loss_list)\n",
    "        return self.w_list"
   ]
  },
  {
   "cell_type": "code",
   "execution_count": 29,
   "id": "7aead888",
   "metadata": {
    "ExecuteTime": {
     "end_time": "2022-03-31T19:13:29.924546Z",
     "start_time": "2022-03-31T19:13:29.912578Z"
    }
   },
   "outputs": [],
   "source": [
    "my_NN_pocket = Neural_Network_Pocket(X_train,y_train,Nh=1,Nn=100)"
   ]
  },
  {
   "cell_type": "code",
   "execution_count": 30,
   "id": "81902f56",
   "metadata": {
    "ExecuteTime": {
     "end_time": "2022-03-31T19:17:07.156349Z",
     "start_time": "2022-03-31T19:13:30.075143Z"
    },
    "scrolled": false
   },
   "outputs": [
    {
     "name": "stdout",
     "output_type": "stream",
     "text": [
      "Epoch:1, Loss:0.10326086956521739\n",
      "Epoch:51, Loss:0.10326086956521739\n",
      "Epoch:101, Loss:0.07608695652173914\n"
     ]
    },
    {
     "name": "stderr",
     "output_type": "stream",
     "text": [
      "C:\\Users\\ruiji\\AppData\\Local\\Temp/ipykernel_17252/2999349955.py:13: RuntimeWarning: overflow encountered in exp\n",
      "  self.theta = lambda x: 1/(1+np.exp(-x))\n"
     ]
    },
    {
     "name": "stdout",
     "output_type": "stream",
     "text": [
      "Epoch:151, Loss:0.05434782608695652\n",
      "Epoch:201, Loss:0.043478260869565216\n",
      "Epoch:251, Loss:0.043478260869565216\n",
      "Epoch:301, Loss:0.043478260869565216\n",
      "Epoch:351, Loss:0.03804347826086957\n",
      "Epoch:401, Loss:0.021739130434782608\n",
      "Epoch:451, Loss:0.021739130434782608\n",
      "Epoch:501, Loss:0.021739130434782608\n",
      "Epoch:551, Loss:0.021739130434782608\n",
      "Epoch:601, Loss:0.021739130434782608\n",
      "Epoch:651, Loss:0.021739130434782608\n",
      "Epoch:701, Loss:0.021739130434782608\n",
      "Epoch:751, Loss:0.021739130434782608\n",
      "Epoch:801, Loss:0.021739130434782608\n",
      "Epoch:851, Loss:0.021739130434782608\n",
      "Epoch:901, Loss:0.021739130434782608\n",
      "Epoch:951, Loss:0.021739130434782608\n"
     ]
    },
    {
     "data": {
      "image/png": "[encoded data removed]",
      "text/plain": [
       "<Figure size 432x288 with 1 Axes>"
      ]
     },
     "metadata": {
      "needs_background": "light"
     },
     "output_type": "display_data"
    },
    {
     "data": {
      "text/plain": [
       "[None,\n",
       " array([[-3.93429413,  0.22188065, -0.25597181, ..., -0.16694019,\n",
       "         -0.19681044,  0.39793082],\n",
       "        [ 5.01085751,  0.17530102, -0.22583496, ..., -0.53740654,\n",
       "         -0.82081462, -0.35975643],\n",
       "        [ 2.10201816, -0.2873033 ,  0.39469028, ..., -0.13227369,\n",
       "          0.37409951,  0.28554382],\n",
       "        ...,\n",
       "        [-5.12528733, -0.4836181 , -0.12285077, ..., -0.56322968,\n",
       "         -0.25528401,  0.43731052],\n",
       "        [-3.20086322,  0.04773226, -0.04309797, ..., -0.26798285,\n",
       "         -0.32439349, -0.46770454],\n",
       "        [ 4.22818687, -0.19570363, -0.08724987, ..., -0.31207436,\n",
       "         -0.29198809, -0.29799917]]),\n",
       " array([[ 2.2609612 ,  1.8584726 ,  1.52759858, -1.15612649,  1.63114621,\n",
       "          1.78153097,  1.6819914 ,  2.3790865 ,  1.74397238,  1.78813971,\n",
       "          2.20273842,  0.13972361, -1.55220971, -2.61854517,  0.36970859,\n",
       "          2.14784874, -3.55663536, -3.95391637,  1.52128951, -0.89413009,\n",
       "          2.12809623,  1.88349883,  1.97634323,  1.31338364,  1.68355532,\n",
       "          3.36928578, -0.47540685,  2.02649673,  3.35514577,  2.45559907,\n",
       "          2.65488266, -7.06980863, -3.97083699,  2.8480033 , -6.43112856,\n",
       "          1.8278666 , -0.2882298 ,  1.8380488 ,  0.35009807, -5.01457966,\n",
       "          3.56964021, -3.02412067,  0.25823574,  0.62983676,  2.88839583,\n",
       "          1.38002384,  2.00145728,  1.42275561,  1.57741092,  2.27733777,\n",
       "          1.56955291,  1.77893799,  1.78762041,  5.39155509,  4.77513748,\n",
       "          2.51728867, -1.98192734,  1.87973615,  2.31862207,  3.25615614,\n",
       "          1.3302287 ,  0.38661685,  1.86952565, -0.47132689,  1.94501216,\n",
       "          1.72699007,  1.93996482,  3.40293881, -0.72694248, -2.41154206,\n",
       "          2.2008919 ,  4.49725921, -3.31355845,  2.34529595, -1.7604633 ,\n",
       "          2.48860381,  7.96878242,  1.94478109, -0.9667606 ,  1.51358944,\n",
       "          2.30626737, -2.48128781,  2.20470441,  4.44174359,  1.86373887,\n",
       "          2.03196113,  1.58584339,  2.93622402,  1.38395592,  1.9014176 ,\n",
       "          1.67359967,  0.41653579, -1.55247383,  1.92884979, -3.44747575,\n",
       "          2.72082979,  2.00996614, -6.17503834, -5.26045323,  1.58406051]])]"
      ]
     },
     "execution_count": 30,
     "metadata": {},
     "output_type": "execute_result"
    }
   ],
   "source": [
    "my_NN_pocket.fit(alpha=1e-1,epoch=1000)"
   ]
  },
  {
   "cell_type": "code",
   "execution_count": 31,
   "id": "a0a12d1c",
   "metadata": {
    "ExecuteTime": {
     "end_time": "2022-03-31T19:17:16.751678Z",
     "start_time": "2022-03-31T19:17:16.744697Z"
    }
   },
   "outputs": [
    {
     "name": "stderr",
     "output_type": "stream",
     "text": [
      "C:\\Users\\ruiji\\AppData\\Local\\Temp/ipykernel_17252/2999349955.py:13: RuntimeWarning: overflow encountered in exp\n",
      "  self.theta = lambda x: 1/(1+np.exp(-x))\n"
     ]
    },
    {
     "data": {
      "text/plain": [
       "0.9036144578313253"
      ]
     },
     "execution_count": 31,
     "metadata": {},
     "output_type": "execute_result"
    }
   ],
   "source": [
    "pred = my_NN_pocket.predict(X_test)\n",
    "sum(y_test==pred)/len(y_test)"
   ]
  },
  {
   "cell_type": "markdown",
   "id": "ef600d81",
   "metadata": {},
   "source": [
    "Accuracy has raised and loss fluctuation has stabilized."
   ]
  },
  {
   "cell_type": "markdown",
   "id": "14603554",
   "metadata": {},
   "source": [
    "### Heavyball/Momentum"
   ]
  },
  {
   "cell_type": "markdown",
   "id": "c9021691",
   "metadata": {},
   "source": [
    "Heavyball algorithm works by increasing the momentum when GD is moving twds the right direction, and decreasing the momentum on the other hand. \n",
    "$$\n",
    "p_k = \\delta^{(l)}_j x^{(l-1)}_i \\\\\n",
    "w^{(l)}_{ij} = w^{(l)}_{ij}-\\eta p_k+\\beta p_{k-1}\n",
    "$$"
   ]
  },
  {
   "cell_type": "code",
   "execution_count": 34,
   "id": "3965f273",
   "metadata": {
    "ExecuteTime": {
     "end_time": "2022-03-31T20:55:50.681158Z",
     "start_time": "2022-03-31T20:55:50.671185Z"
    }
   },
   "outputs": [],
   "source": [
    "my_NN_hb = Neural_Network_HeavyBall(X_train,y_train,Nh=1,Nn=100)"
   ]
  },
  {
   "cell_type": "code",
   "execution_count": 36,
   "id": "b1199896",
   "metadata": {
    "ExecuteTime": {
     "end_time": "2022-03-31T21:01:54.809945Z",
     "start_time": "2022-03-31T20:59:34.478396Z"
    },
    "scrolled": false
   },
   "outputs": [
    {
     "name": "stdout",
     "output_type": "stream",
     "text": [
      "Epoch:1, Loss:0.10326086956521739\n",
      "Epoch:51, Loss:0.10326086956521739\n",
      "Epoch:101, Loss:0.08152173913043478\n"
     ]
    },
    {
     "name": "stderr",
     "output_type": "stream",
     "text": [
      "C:\\Users\\ruiji\\AppData\\Local\\Temp/ipykernel_17252/949553836.py:13: RuntimeWarning: overflow encountered in exp\n",
      "  self.theta = lambda x: 1/(1+np.exp(-x))\n"
     ]
    },
    {
     "name": "stdout",
     "output_type": "stream",
     "text": [
      "Epoch:151, Loss:0.043478260869565216\n",
      "Epoch:201, Loss:0.043478260869565216\n",
      "Epoch:251, Loss:0.03804347826086957\n",
      "Epoch:301, Loss:0.03804347826086957\n",
      "Epoch:351, Loss:0.03804347826086957\n",
      "Epoch:401, Loss:0.03804347826086957\n",
      "Epoch:451, Loss:0.03804347826086957\n",
      "Epoch:501, Loss:0.03260869565217391\n",
      "Epoch:551, Loss:0.03260869565217391\n",
      "Epoch:601, Loss:0.03260869565217391\n",
      "Epoch:651, Loss:0.03260869565217391\n",
      "Epoch:701, Loss:0.02717391304347826\n",
      "Epoch:751, Loss:0.021739130434782608\n",
      "Epoch:801, Loss:0.016304347826086956\n",
      "Epoch:851, Loss:0.016304347826086956\n",
      "Epoch:901, Loss:0.016304347826086956\n",
      "Epoch:951, Loss:0.016304347826086956\n"
     ]
    },
    {
     "data": {
      "image/png": "[encoded data removed]",
      "text/plain": [
       "<Figure size 432x288 with 1 Axes>"
      ]
     },
     "metadata": {
      "needs_background": "light"
     },
     "output_type": "display_data"
    },
    {
     "data": {
      "text/plain": [
       "[None,\n",
       " array([[ 0.86718058,  0.29529779,  0.86228808, ...,  0.1567525 ,\n",
       "          0.25631394, -0.04701554],\n",
       "        [-0.49487336,  0.02912094, -0.21592381, ...,  0.39948672,\n",
       "          1.02029142,  0.48245466],\n",
       "        [ 2.30648691,  0.04753675, -0.08333212, ...,  0.95806218,\n",
       "          0.37942808,  0.46786333],\n",
       "        ...,\n",
       "        [-3.95507897, -0.18705484,  0.21006979, ..., -0.66926504,\n",
       "         -0.29793114,  0.05657624],\n",
       "        [-3.77231724, -0.48678279, -0.48567117, ..., -0.43607202,\n",
       "         -0.2993626 ,  0.05876564],\n",
       "        [ 1.08920794,  0.66957683, -0.20146079, ...,  0.96833632,\n",
       "          0.90545593,  1.68873277]]),\n",
       " array([[ 6.41589882e-01, -5.42687092e-01,  2.09751630e+00,\n",
       "         -9.66293842e-01,  2.62468899e+00,  6.36161030e-01,\n",
       "          3.83344546e+00, -2.80636730e+00,  1.23241455e-01,\n",
       "          2.48025569e-01,  6.02157138e-02,  3.25409235e+00,\n",
       "         -4.63949350e+00,  8.67081282e-01,  1.76931888e+00,\n",
       "          2.88242172e-01,  6.90842421e-01, -1.16981863e-01,\n",
       "          3.31896181e-01, -2.54502818e-01,  1.14426358e+00,\n",
       "         -3.06680292e+00, -1.15001910e-01, -4.54431588e-01,\n",
       "         -5.78318060e+00,  2.03045184e+00,  5.05221987e-01,\n",
       "          2.17787855e+00, -1.19672685e+00,  2.07153762e+00,\n",
       "          3.16005712e+00,  2.06609737e+00,  1.32772335e+00,\n",
       "          2.60803051e+00,  3.86957013e-01, -1.66978419e+00,\n",
       "         -4.97545376e-02,  1.16816870e+00,  1.93358714e+00,\n",
       "          8.08081376e-02,  2.62514623e+00,  4.21428154e+00,\n",
       "         -6.98320259e-01,  2.55313127e-01, -8.57871580e-01,\n",
       "         -1.92065176e+00,  2.42768835e+00, -1.62621994e+00,\n",
       "          4.27721554e-02, -4.90977426e-01, -4.29911441e+00,\n",
       "          8.71214679e-01,  2.98806437e+00,  1.31958285e+00,\n",
       "         -3.10945520e+00,  2.06932936e+00,  1.25759677e+00,\n",
       "          1.77208628e+00, -4.89000217e+00,  8.86823541e-01,\n",
       "          3.02388718e+00, -9.27242213e-02, -1.05073752e+01,\n",
       "         -1.04154499e-02, -4.72998650e-01, -6.34947231e+00,\n",
       "          4.63587336e+00, -3.80163634e+00,  5.40698069e-01,\n",
       "          6.56090464e-02,  5.63157877e-01,  1.54554817e+00,\n",
       "          6.73977849e-01,  2.42974688e+00,  2.20118640e+00,\n",
       "          3.63215374e+00,  5.05645968e+00,  1.45828714e+00,\n",
       "          1.81311268e+00,  2.20552395e+00, -2.39645180e+00,\n",
       "          6.61941753e-01, -4.39505119e+00,  1.23270999e-01,\n",
       "          2.04217471e+00, -9.91139272e-01, -5.30974858e-01,\n",
       "         -7.57394916e-01,  3.56995105e+00,  1.84545525e+00,\n",
       "         -2.39491311e+00,  9.69998013e-01,  1.83883613e-01,\n",
       "          2.38687618e+00,  1.99463795e+00,  2.54830437e-02,\n",
       "          1.64546870e+00, -2.48032408e+00, -5.16413160e+00,\n",
       "          3.14975931e+00]])]"
      ]
     },
     "execution_count": 36,
     "metadata": {},
     "output_type": "execute_result"
    }
   ],
   "source": [
    "my_NN_hb.fit(alpha=1e-1,beta=0.4,epoch=1000)"
   ]
  },
  {
   "cell_type": "code",
   "execution_count": 37,
   "id": "bb7dbfdf",
   "metadata": {
    "ExecuteTime": {
     "end_time": "2022-03-31T21:02:20.165107Z",
     "start_time": "2022-03-31T21:02:20.158126Z"
    }
   },
   "outputs": [
    {
     "name": "stderr",
     "output_type": "stream",
     "text": [
      "C:\\Users\\ruiji\\AppData\\Local\\Temp/ipykernel_17252/949553836.py:13: RuntimeWarning: overflow encountered in exp\n",
      "  self.theta = lambda x: 1/(1+np.exp(-x))\n"
     ]
    },
    {
     "data": {
      "text/plain": [
       "0.9397590361445783"
      ]
     },
     "execution_count": 37,
     "metadata": {},
     "output_type": "execute_result"
    }
   ],
   "source": [
    "pred = my_NN_hb.predict(X_test)\n",
    "sum(y_test==pred)/len(y_test)"
   ]
  },
  {
   "cell_type": "markdown",
   "id": "1213e9a5",
   "metadata": {},
   "source": [
    "Accuracy has been raised again."
   ]
  }
 ],
 "metadata": {
  "kernelspec": {
   "display_name": "Python 3 (ipykernel)",
   "language": "python",
   "name": "python3"
  },
  "language_info": {
   "codemirror_mode": {
    "name": "ipython",
    "version": 3
   },
   "file_extension": ".py",
   "mimetype": "text/x-python",
   "name": "python",
   "nbconvert_exporter": "python",
   "pygments_lexer": "ipython3",
   "version": "3.9.7"
  },
  "toc": {
   "base_numbering": 1,
   "nav_menu": {},
   "number_sections": true,
   "sideBar": true,
   "skip_h1_title": false,
   "title_cell": "Table of Contents",
   "title_sidebar": "Contents",
   "toc_cell": false,
   "toc_position": {},
   "toc_section_display": true,
   "toc_window_display": false
  },
  "varInspector": {
   "cols": {
    "lenName": 16,
    "lenType": 16,
    "lenVar": 40
   },
   "kernels_config": {
    "python": {
     "delete_cmd_postfix": "",
     "delete_cmd_prefix": "del ",
     "library": "var_list.py",
     "varRefreshCmd": "print(var_dic_list())"
    },
    "r": {
     "delete_cmd_postfix": ") ",
     "delete_cmd_prefix": "rm(",
     "library": "var_list.r",
     "varRefreshCmd": "cat(var_dic_list()) "
    }
   },
   "types_to_exclude": [
    "module",
    "function",
    "builtin_function_or_method",
    "instance",
    "_Feature"
   ],
   "window_display": false
  }
 },
 "nbformat": 4,
 "nbformat_minor": 5
}
