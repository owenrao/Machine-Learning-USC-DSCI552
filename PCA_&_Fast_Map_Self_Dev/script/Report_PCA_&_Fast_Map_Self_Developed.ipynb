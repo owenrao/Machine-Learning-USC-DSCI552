{
 "cells": [
  {
   "cell_type": "markdown",
   "id": "b49208cb",
   "metadata": {},
   "source": [
    "# Report on PCA and Fast Map Algorithms"
   ]
  },
  {
   "cell_type": "markdown",
   "id": "8a47a139",
   "metadata": {},
   "source": [
    "by Ruijie Rao"
   ]
  },
  {
   "cell_type": "markdown",
   "id": "aea578d6",
   "metadata": {},
   "source": [
    "## Import Libraries"
   ]
  },
  {
   "cell_type": "code",
   "execution_count": 3,
   "id": "4217eb15",
   "metadata": {
    "ExecuteTime": {
     "end_time": "2022-02-23T00:27:54.049967Z",
     "start_time": "2022-02-23T00:27:53.114468Z"
    }
   },
   "outputs": [],
   "source": [
    "import pandas as pd\n",
    "import numpy as np\n",
    "import matplotlib.pyplot as plt"
   ]
  },
  {
   "cell_type": "markdown",
   "id": "d47de7cf",
   "metadata": {},
   "source": [
    "## Data Import"
   ]
  },
  {
   "cell_type": "code",
   "execution_count": 4,
   "id": "15e4c2cc",
   "metadata": {
    "ExecuteTime": {
     "end_time": "2022-02-23T00:27:54.176629Z",
     "start_time": "2022-02-23T00:27:54.082879Z"
    }
   },
   "outputs": [],
   "source": [
    "with open(\"pca-data.txt\", \"r\") as file:\n",
    "    content = file.readlines()\n",
    "pca_data = np.array([line.strip(\"\\n\").split(\"\\t\") for line in content] ).astype(float)"
   ]
  },
  {
   "cell_type": "code",
   "execution_count": 5,
   "id": "97877b4c",
   "metadata": {
    "ExecuteTime": {
     "end_time": "2022-02-23T00:27:54.223503Z",
     "start_time": "2022-02-23T00:27:54.208544Z"
    }
   },
   "outputs": [
    {
     "data": {
      "text/plain": [
       "array([[  5.90626285,  -7.72946458,   9.14494487],\n",
       "       [ -8.64032311,   1.72426044, -10.69680519],\n",
       "       [  0.25854061,   0.23062224,   0.76743916],\n",
       "       ...,\n",
       "       [ -3.69142791,  -0.474338  ,   0.55020057],\n",
       "       [  7.63831529,  -4.47583291,   8.15392291],\n",
       "       [  9.72207756,  -8.50135442,   8.8424068 ]])"
      ]
     },
     "execution_count": 5,
     "metadata": {},
     "output_type": "execute_result"
    }
   ],
   "source": [
    "pca_data"
   ]
  },
  {
   "cell_type": "code",
   "execution_count": 6,
   "id": "6635ee06",
   "metadata": {
    "ExecuteTime": {
     "end_time": "2022-02-23T00:27:54.270378Z",
     "start_time": "2022-02-23T00:27:54.261402Z"
    }
   },
   "outputs": [],
   "source": [
    "with open(\"fastmap-data.txt\", \"r\") as file:\n",
    "    content = file.readlines()\n",
    "fm_data = np.array([line.strip(\"\\n\").split(\"\\t\") for line in content] ).astype(float)\n",
    "with open(\"fastmap-wordlist.txt\", \"r\") as file:\n",
    "    content = file.readlines()\n",
    "fm_wordlist = np.array([line.strip(\"\\n\") for line in content] )"
   ]
  },
  {
   "cell_type": "code",
   "execution_count": 7,
   "id": "36e2b9db",
   "metadata": {
    "ExecuteTime": {
     "end_time": "2022-02-23T00:27:54.440922Z",
     "start_time": "2022-02-23T00:27:54.421973Z"
    },
    "scrolled": true
   },
   "outputs": [
    {
     "data": {
      "text/plain": [
       "array(['acting', 'activist', 'compute', 'coward', 'forward',\n",
       "       'interaction', 'activity', 'odor', 'order', 'international'],\n",
       "      dtype='<U13')"
      ]
     },
     "execution_count": 7,
     "metadata": {},
     "output_type": "execute_result"
    }
   ],
   "source": [
    "fm_wordlist"
   ]
  },
  {
   "cell_type": "markdown",
   "id": "37f67d35",
   "metadata": {},
   "source": [
    "# PCA Algorithm"
   ]
  },
  {
   "cell_type": "markdown",
   "id": "51ac66b3",
   "metadata": {},
   "source": [
    "## Brief Description"
   ]
  },
  {
   "cell_type": "markdown",
   "id": "e1843199",
   "metadata": {},
   "source": [
    "The goal of PCA is to lower the dimension of high-dimensional data by capturing the attributes with most variability, which will help us in visualization and acceleration in other model trainings.\n",
    "1. Calculate covariance matrix of the data points.\n",
    "2. Compute the eigenvalues and their eigenvectors.\n",
    "3. Pick the largest N eigenvalues and their eigenvectors.\n",
    "4. Generate a new data set using the original data and the new eigenvectors."
   ]
  },
  {
   "cell_type": "markdown",
   "id": "325705aa",
   "metadata": {},
   "source": [
    "## Algorithm Construct"
   ]
  },
  {
   "cell_type": "code",
   "execution_count": 21,
   "id": "7a1f95b6",
   "metadata": {
    "ExecuteTime": {
     "end_time": "2022-02-23T00:43:39.604190Z",
     "start_time": "2022-02-23T00:43:39.588233Z"
    }
   },
   "outputs": [],
   "source": [
    "n = 2 # Reduce to 2D\n",
    "pca_data_meaned = pca_data-np.mean(pca_data,axis=0)\n",
    "cov_mat = np.cov(pca_data_meaned,rowvar=False) # Covariance Matrix 3x3\n",
    "e_val, e_vec = np.linalg.eigh(cov_mat) # eval are 3 scalars, evec is 3x3 mat\n",
    "e_vec_reduced = e_vec[np.argsort(e_val)][::-1][:,:n] # Reduced to 3x2\n",
    "pca_data_reduced = pca_data_meaned@e_vec_reduced"
   ]
  },
  {
   "cell_type": "markdown",
   "id": "31fa1665",
   "metadata": {},
   "source": [
    "## Test"
   ]
  },
  {
   "cell_type": "code",
   "execution_count": 22,
   "id": "b76f3e82",
   "metadata": {
    "ExecuteTime": {
     "end_time": "2022-02-23T00:43:41.648787Z",
     "start_time": "2022-02-23T00:43:41.643795Z"
    }
   },
   "outputs": [
    {
     "data": {
      "text/plain": [
       "array([[-3.73636464, -3.47164008],\n",
       "       [-2.68767077,  1.73739336],\n",
       "       [ 0.30249399,  0.3288875 ],\n",
       "       ...,\n",
       "       [-2.41984582,  2.69798271],\n",
       "       [-0.01802045, -3.59947044],\n",
       "       [-2.29884773, -6.73009149]])"
      ]
     },
     "execution_count": 22,
     "metadata": {},
     "output_type": "execute_result"
    }
   ],
   "source": [
    "pca_data_reduced"
   ]
  },
  {
   "cell_type": "markdown",
   "id": "4cb57950",
   "metadata": {},
   "source": [
    "## Result"
   ]
  },
  {
   "cell_type": "markdown",
   "id": "2464064d",
   "metadata": {},
   "source": [
    "Directions of the first two principal components:"
   ]
  },
  {
   "cell_type": "code",
   "execution_count": 36,
   "id": "43d128f7",
   "metadata": {
    "ExecuteTime": {
     "end_time": "2022-02-23T01:05:51.415005Z",
     "start_time": "2022-02-23T01:05:51.396055Z"
    }
   },
   "outputs": [
    {
     "data": {
      "text/plain": [
       "array([[ 0.54233352,  0.83862076, -0.0508879 ],\n",
       "       [-0.71496368,  0.4924792 ,  0.4962773 ]])"
      ]
     },
     "execution_count": 36,
     "metadata": {},
     "output_type": "execute_result"
    }
   ],
   "source": [
    "e_vec_reduced.T"
   ]
  },
  {
   "cell_type": "markdown",
   "id": "5b665301",
   "metadata": {},
   "source": [
    "Following is a graph in 3D of the original coordinates."
   ]
  },
  {
   "cell_type": "code",
   "execution_count": 10,
   "id": "958fe3e8",
   "metadata": {
    "ExecuteTime": {
     "end_time": "2022-02-23T00:29:28.022764Z",
     "start_time": "2022-02-23T00:29:27.826289Z"
    }
   },
   "outputs": [
    {
     "data": {
      "text/plain": [
       "<function matplotlib.pyplot.show(close=None, block=None)>"
      ]
     },
     "execution_count": 10,
     "metadata": {},
     "output_type": "execute_result"
    },
    {
     "data": {
      "image/png": "[encoded data removed]",
      "text/plain": [
       "<Figure size 432x288 with 1 Axes>"
      ]
     },
     "metadata": {
      "needs_background": "light"
     },
     "output_type": "display_data"
    }
   ],
   "source": [
    "fig = plt.figure()\n",
    "ax = fig.add_subplot(projection='3d')\n",
    "ax.scatter(pca_data[:,0], pca_data[:,1], pca_data[:,2])\n",
    "plt.show"
   ]
  },
  {
   "cell_type": "markdown",
   "id": "bc70cce7",
   "metadata": {},
   "source": [
    "Following is a graph in 2D of the reduced coordinates."
   ]
  },
  {
   "cell_type": "code",
   "execution_count": 23,
   "id": "14742141",
   "metadata": {
    "ExecuteTime": {
     "end_time": "2022-02-23T00:43:46.212213Z",
     "start_time": "2022-02-23T00:43:46.083558Z"
    }
   },
   "outputs": [
    {
     "data": {
      "text/plain": [
       "<function matplotlib.pyplot.show(close=None, block=None)>"
      ]
     },
     "execution_count": 23,
     "metadata": {},
     "output_type": "execute_result"
    },
    {
     "data": {
      "image/png": "[encoded data removed]",
      "text/plain": [
       "<Figure size 432x288 with 1 Axes>"
      ]
     },
     "metadata": {
      "needs_background": "light"
     },
     "output_type": "display_data"
    }
   ],
   "source": [
    "fig = plt.figure()\n",
    "ax = fig.add_subplot()\n",
    "ax.scatter(pca_data_reduced[:,0], pca_data_reduced[:,1])\n",
    "plt.show"
   ]
  },
  {
   "cell_type": "markdown",
   "id": "94092fa6",
   "metadata": {},
   "source": [
    "## Implementation of Library Function"
   ]
  },
  {
   "cell_type": "markdown",
   "id": "e3ed40fb",
   "metadata": {},
   "source": [
    "Going to use SKLearn PCA on the training data to see the difference."
   ]
  },
  {
   "cell_type": "code",
   "execution_count": 1,
   "id": "9a6bfe83",
   "metadata": {
    "ExecuteTime": {
     "end_time": "2022-02-23T00:25:05.267133Z",
     "start_time": "2022-02-23T00:25:04.301714Z"
    }
   },
   "outputs": [],
   "source": [
    "from sklearn.decomposition import PCA"
   ]
  },
  {
   "cell_type": "code",
   "execution_count": 11,
   "id": "4f4764e8",
   "metadata": {
    "ExecuteTime": {
     "end_time": "2022-02-23T00:31:46.351136Z",
     "start_time": "2022-02-23T00:31:46.203531Z"
    }
   },
   "outputs": [
    {
     "name": "stdout",
     "output_type": "stream",
     "text": [
      "[[-10.87667009   7.37396173]\n",
      " [ 12.68609992  -4.24879151]\n",
      " [ -0.43255106   0.26700852]\n",
      " ...\n",
      " [  2.92254009   2.41914881]\n",
      " [-11.18317124   4.20349275]\n",
      " [-14.2299014    5.64409544]]\n"
     ]
    },
    {
     "data": {
      "text/plain": [
       "<function matplotlib.pyplot.show(close=None, block=None)>"
      ]
     },
     "execution_count": 11,
     "metadata": {},
     "output_type": "execute_result"
    },
    {
     "data": {
      "image/png": "[encoded data removed]",
      "text/plain": [
       "<Figure size 432x288 with 1 Axes>"
      ]
     },
     "metadata": {
      "needs_background": "light"
     },
     "output_type": "display_data"
    }
   ],
   "source": [
    "pca = PCA(n_components=2)\n",
    "sk_pca_data_reduced = pca.fit_transform(pca_data)\n",
    "print(sk_pca_data_reduced)\n",
    "fig = plt.figure()\n",
    "ax = fig.add_subplot()\n",
    "ax.scatter(sk_pca_data_reduced[:,0], sk_pca_data_reduced[:,1])\n",
    "plt.show"
   ]
  },
  {
   "cell_type": "markdown",
   "id": "2004343b",
   "metadata": {},
   "source": [
    "# Fast Map Algorithm"
   ]
  },
  {
   "cell_type": "markdown",
   "id": "bb8d41a6",
   "metadata": {},
   "source": [
    "## Brief Description"
   ]
  },
  {
   "cell_type": "markdown",
   "id": "913d8003",
   "metadata": {},
   "source": [
    "The goal of Fast Map is to map objects into euclidean space.\n",
    "1. According to distance between each pair of objects, iterate and find the furthest pair (as $O_a$ and $O_b$).\n",
    "2. $O_a$ and $O_b$ forms a line that defines the first dimension of the resulted points. Calculate the first dimension of every point by projecting $O_i$ onto $O_aO_b$.\n",
    "3. Find a new dimension that is perpendicular to the former dimension. Find the distance between each pair of points using the function:$D_{new}(O_i',O_j')^2=D(O_i,O_j)^2-(x_i,x_j)^2$\n",
    "4. Iterate."
   ]
  },
  {
   "cell_type": "markdown",
   "id": "ef25fcdc",
   "metadata": {},
   "source": [
    "## Algorithm Construct"
   ]
  },
  {
   "cell_type": "markdown",
   "id": "8aeae9a2",
   "metadata": {},
   "source": [
    "### Data Preparation"
   ]
  },
  {
   "cell_type": "markdown",
   "id": "ed99cf8b",
   "metadata": {},
   "source": [
    "Going to build a distance matrix every iteration and inherit the matrix to the next iteration for new distance calculation. Distance matrix is going to be a dictionary, with *index* and *value* 2 lists as following. *Index* will be a list of sets that contains a and b of the pair. *Value* will be a list of distance values between $p_a$ and $p_b$. "
   ]
  },
  {
   "cell_type": "code",
   "execution_count": 75,
   "id": "8efd767d",
   "metadata": {
    "ExecuteTime": {
     "end_time": "2022-02-22T01:21:20.089918Z",
     "start_time": "2022-02-22T01:21:20.070969Z"
    }
   },
   "outputs": [
    {
     "name": "stdout",
     "output_type": "stream",
     "text": [
      "index: value:\n",
      " 0,1    4.0\n",
      " 0,2    7.0\n",
      " 0,3    6.0\n",
      " 0,4    7.0\n",
      " 0,5    7.0\n",
      " 0,6    4.0\n",
      " 0,7    6.0\n",
      " 0,8    6.0\n",
      " 0,9    10.0\n",
      " 1,2    7.0\n",
      " 1,3    7.0\n",
      " 1,4    8.0\n",
      " 1,5    9.0\n",
      " 1,6    2.0\n",
      " 1,7    8.0\n",
      " 1,8    8.0\n",
      " 1,9    11.0\n",
      " 2,3    5.0\n",
      " 2,4    6.0\n",
      " 2,5    10.0\n",
      " 2,6    6.0\n",
      " 2,7    6.0\n",
      " 2,8    6.0\n",
      " 2,9    12.0\n",
      " 3,4    2.0\n",
      " 3,5    10.0\n",
      " 3,6    7.0\n",
      " 3,7    4.0\n",
      " 3,8    5.0\n",
      " 3,9    12.0\n",
      " 4,5    10.0\n",
      " 4,6    8.0\n",
      " 4,7    5.0\n",
      " 4,8    4.0\n",
      " 4,9    11.0\n",
      " 5,6    9.0\n",
      " 5,7    10.0\n",
      " 5,8    9.0\n",
      " 5,9    4.0\n",
      " 6,7    8.0\n",
      " 6,8    8.0\n",
      " 6,9    11.0\n",
      " 7,8    2.0\n",
      " 7,9    12.0\n",
      " 8,9    11.0\n"
     ]
    }
   ],
   "source": [
    "dist_mat = {\"index\":[],\"value\":[]}\n",
    "print(\"index: value:\")\n",
    "for row in fm_data:\n",
    "    a = int(row[0])-1\n",
    "    b = int(row[1])-1\n",
    "    d = row[2]\n",
    "    dist_mat[\"index\"].append({a,b})\n",
    "    dist_mat[\"value\"].append(d)\n",
    "    print(f\" {a},{b}    {d}\")"
   ]
  },
  {
   "cell_type": "markdown",
   "id": "8ddc6b45",
   "metadata": {},
   "source": [
    "Finding the distance between $p_a$ and $p_b$ will simply be slicing in the value list using index pair."
   ]
  },
  {
   "cell_type": "code",
   "execution_count": 45,
   "id": "d9d62766",
   "metadata": {
    "ExecuteTime": {
     "end_time": "2022-02-22T00:50:24.818843Z",
     "start_time": "2022-02-22T00:50:24.813856Z"
    }
   },
   "outputs": [],
   "source": [
    "def find_distance(a,b,dist_mat):\n",
    "    return dist_mat[\"value\"][dist_mat[\"index\"].index({a,b})]"
   ]
  },
  {
   "cell_type": "markdown",
   "id": "5729ba50",
   "metadata": {},
   "source": [
    "### Config"
   ]
  },
  {
   "cell_type": "code",
   "execution_count": 65,
   "id": "31f638d2",
   "metadata": {
    "ExecuteTime": {
     "end_time": "2022-02-22T01:08:23.660799Z",
     "start_time": "2022-02-22T01:08:23.647833Z"
    }
   },
   "outputs": [],
   "source": [
    "N = len(fm_wordlist) # Number of objects\n",
    "k = 2 # 2D dimension"
   ]
  },
  {
   "cell_type": "markdown",
   "id": "d3d0dfca",
   "metadata": {},
   "source": [
    "### Generate New Distance Matrix"
   ]
  },
  {
   "cell_type": "markdown",
   "id": "c48365ae",
   "metadata": {},
   "source": [
    "$D_{new}(O_i',O_j')^2=D(O_i,O_j)^2-(x_i,x_j)^2$"
   ]
  },
  {
   "cell_type": "code",
   "execution_count": 68,
   "id": "d3e23a0d",
   "metadata": {
    "ExecuteTime": {
     "end_time": "2022-02-22T01:14:29.801114Z",
     "start_time": "2022-02-22T01:14:29.783162Z"
    }
   },
   "outputs": [],
   "source": [
    "def gen_distance_matrix(dist_mat,x):\n",
    "    for i in range(len(dist_mat[\"index\"])):\n",
    "        a,b = dist_mat[\"index\"][i]\n",
    "        dist_mat[\"value\"][i] = np.sqrt(np.square(dist_mat[\"value\"][i])-np.square(x[a]-x[b]))\n",
    "    return dist_mat"
   ]
  },
  {
   "cell_type": "markdown",
   "id": "9168ad62",
   "metadata": {},
   "source": [
    "### Find Furthest Pair"
   ]
  },
  {
   "cell_type": "markdown",
   "id": "dab27928",
   "metadata": {},
   "source": [
    "Going to find the furthest pair of points by finding the max distance among all distances of all pairs."
   ]
  },
  {
   "cell_type": "code",
   "execution_count": 61,
   "id": "bddb581b",
   "metadata": {
    "ExecuteTime": {
     "end_time": "2022-02-22T01:02:58.388464Z",
     "start_time": "2022-02-22T01:02:58.382480Z"
    }
   },
   "outputs": [],
   "source": [
    "def find_furthest_pair(dist_mat):\n",
    "    a,b = dist_mat[\"index\"][np.argmax(dist_mat[\"value\"])]\n",
    "    return a,b"
   ]
  },
  {
   "cell_type": "markdown",
   "id": "bc2dacb3",
   "metadata": {},
   "source": [
    "### Generate New Dimension Coordinates"
   ]
  },
  {
   "cell_type": "markdown",
   "id": "b0996a76",
   "metadata": {},
   "source": [
    "Except for $i=a,b$, $xi = \\frac{(d_{ai}^2+d_{ab}^2−d_{ib}^2)}{(2d_{ab})}$"
   ]
  },
  {
   "cell_type": "code",
   "execution_count": 57,
   "id": "3701db62",
   "metadata": {
    "ExecuteTime": {
     "end_time": "2022-02-22T01:01:01.932238Z",
     "start_time": "2022-02-22T01:01:01.919272Z"
    }
   },
   "outputs": [],
   "source": [
    "def gen_x(a,b,dist_mat):\n",
    "    x = np.zeros(N)\n",
    "    dab = find_distance(a,b,dist_mat)\n",
    "    x[a] = 0 # P_a to itself\n",
    "    x[b] = dab # Furthest distance\n",
    "    for i in range(N):\n",
    "        if i==a or i==b:\n",
    "            continue\n",
    "        dai = find_distance(a,i,dist_mat)\n",
    "        dib = find_distance(i,b,dist_mat)\n",
    "        x[i] = (dai**2+dab**2-dib**2)/(2*dab)\n",
    "    return x"
   ]
  },
  {
   "cell_type": "markdown",
   "id": "666f307c",
   "metadata": {},
   "source": [
    "### Loop Construct"
   ]
  },
  {
   "cell_type": "code",
   "execution_count": 66,
   "id": "bd5defd9",
   "metadata": {
    "ExecuteTime": {
     "end_time": "2022-02-22T01:13:58.977004Z",
     "start_time": "2022-02-22T01:13:58.967030Z"
    }
   },
   "outputs": [],
   "source": [
    "def Fast_Map(dist_mat,k=2): # k dimension\n",
    "    result = np.zeros((N,k))\n",
    "    for c in range(k):\n",
    "        if c != 0:\n",
    "            dist_mat = gen_distance_matrix(dist_mat,x)\n",
    "        a,b = find_furthest_pair(dist_mat)\n",
    "        x = gen_x(a,b,dist_mat)\n",
    "        result[:,c] = x\n",
    "    return result"
   ]
  },
  {
   "cell_type": "markdown",
   "id": "96247fef",
   "metadata": {},
   "source": [
    "### Test"
   ]
  },
  {
   "cell_type": "code",
   "execution_count": 74,
   "id": "6b246452",
   "metadata": {
    "ExecuteTime": {
     "end_time": "2022-02-22T01:21:16.770790Z",
     "start_time": "2022-02-22T01:21:16.758822Z"
    }
   },
   "outputs": [
    {
     "data": {
      "text/plain": [
       "array([[ 8.125     ,  6.0625    ],\n",
       "       [ 9.        ,  7.75      ],\n",
       "       [12.        ,  4.        ],\n",
       "       [10.95833333,  1.1875    ],\n",
       "       [ 9.54166667,  0.        ],\n",
       "       [ 2.5       ,  5.1875    ],\n",
       "       [ 9.54166667,  8.        ],\n",
       "       [10.5       ,  1.5625    ],\n",
       "       [ 9.54166667,  1.        ],\n",
       "       [ 0.        ,  4.        ]])"
      ]
     },
     "execution_count": 74,
     "metadata": {},
     "output_type": "execute_result"
    }
   ],
   "source": [
    "Fast_Map(dist_mat,k=2)"
   ]
  },
  {
   "cell_type": "markdown",
   "id": "7dc889b5",
   "metadata": {},
   "source": [
    "### Plot Result"
   ]
  },
  {
   "cell_type": "code",
   "execution_count": 76,
   "id": "78d4e8e8",
   "metadata": {
    "ExecuteTime": {
     "end_time": "2022-02-22T01:22:34.009344Z",
     "start_time": "2022-02-22T01:22:33.752032Z"
    }
   },
   "outputs": [
    {
     "data": {
      "text/plain": [
       "<function matplotlib.pyplot.show(close=None, block=None)>"
      ]
     },
     "execution_count": 76,
     "metadata": {},
     "output_type": "execute_result"
    },
    {
     "data": {
      "image/png": "[encoded data removed]",
      "text/plain": [
       "<Figure size 432x288 with 1 Axes>"
      ]
     },
     "metadata": {
      "needs_background": "light"
     },
     "output_type": "display_data"
    }
   ],
   "source": [
    "map_result = Fast_Map(dist_mat,k=2)\n",
    "fig = plt.figure()\n",
    "ax = fig.add_subplot()\n",
    "ax.scatter(map_result[:,0], map_result[:,1])\n",
    "for (label,x,y) in zip(fm_wordlist,map_result[:,0],map_result[:,1]):\n",
    "    plt.annotate(label, (x, y))\n",
    "plt.show"
   ]
  }
 ],
 "metadata": {
  "kernelspec": {
   "display_name": "Python 3 (ipykernel)",
   "language": "python",
   "name": "python3"
  },
  "language_info": {
   "codemirror_mode": {
    "name": "ipython",
    "version": 3
   },
   "file_extension": ".py",
   "mimetype": "text/x-python",
   "name": "python",
   "nbconvert_exporter": "python",
   "pygments_lexer": "ipython3",
   "version": "3.9.7"
  },
  "toc": {
   "base_numbering": 1,
   "nav_menu": {},
   "number_sections": true,
   "sideBar": true,
   "skip_h1_title": false,
   "title_cell": "Table of Contents",
   "title_sidebar": "Contents",
   "toc_cell": false,
   "toc_position": {},
   "toc_section_display": true,
   "toc_window_display": false
  },
  "varInspector": {
   "cols": {
    "lenName": 16,
    "lenType": 16,
    "lenVar": 40
   },
   "kernels_config": {
    "python": {
     "delete_cmd_postfix": "",
     "delete_cmd_prefix": "del ",
     "library": "var_list.py",
     "varRefreshCmd": "print(var_dic_list())"
    },
    "r": {
     "delete_cmd_postfix": ") ",
     "delete_cmd_prefix": "rm(",
     "library": "var_list.r",
     "varRefreshCmd": "cat(var_dic_list()) "
    }
   },
   "types_to_exclude": [
    "module",
    "function",
    "builtin_function_or_method",
    "instance",
    "_Feature"
   ],
   "window_display": false
  }
 },
 "nbformat": 4,
 "nbformat_minor": 5
}
