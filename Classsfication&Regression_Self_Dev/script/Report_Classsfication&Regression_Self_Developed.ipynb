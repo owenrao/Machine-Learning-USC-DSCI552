{
 "cells": [
  {
   "cell_type": "markdown",
   "id": "fbc13bf5",
   "metadata": {},
   "source": [
    "# Report on Classification and Regression"
   ]
  },
  {
   "cell_type": "markdown",
   "id": "0a6e264d",
   "metadata": {},
   "source": [
    "by Ruijie Rao"
   ]
  },
  {
   "cell_type": "markdown",
   "id": "94e49309",
   "metadata": {},
   "source": [
    "### Library Import"
   ]
  },
  {
   "cell_type": "code",
   "execution_count": 1,
   "id": "dae2ff2a",
   "metadata": {
    "ExecuteTime": {
     "end_time": "2022-03-25T19:35:05.890856Z",
     "start_time": "2022-03-25T19:35:05.327157Z"
    }
   },
   "outputs": [],
   "source": [
    "import pandas as pd\n",
    "import numpy as np\n",
    "import matplotlib.pyplot as plt\n",
    "from numpy.random import RandomState"
   ]
  },
  {
   "cell_type": "markdown",
   "id": "67653568",
   "metadata": {},
   "source": [
    "### Data import"
   ]
  },
  {
   "cell_type": "code",
   "execution_count": 2,
   "id": "65eec44f",
   "metadata": {
    "ExecuteTime": {
     "end_time": "2022-03-25T19:35:05.951671Z",
     "start_time": "2022-03-25T19:35:05.922749Z"
    }
   },
   "outputs": [],
   "source": [
    "with open(\"linear-regression.txt\", \"r\") as file:\n",
    "    content = file.readlines()\n",
    "r_data = np.array([line.strip(\"\\n\").split(\",\") for line in content] ).astype(float)"
   ]
  },
  {
   "cell_type": "code",
   "execution_count": 3,
   "id": "f23586fb",
   "metadata": {
    "ExecuteTime": {
     "end_time": "2022-03-25T19:35:06.014503Z",
     "start_time": "2022-03-25T19:35:05.984583Z"
    }
   },
   "outputs": [],
   "source": [
    "with open(\"classification.txt\", \"r\") as file:\n",
    "    content = file.readlines()\n",
    "c_data = np.array([line.strip(\"\\n\").split(\",\") for line in content] ).astype(float)"
   ]
  },
  {
   "cell_type": "markdown",
   "id": "a5782779",
   "metadata": {},
   "source": [
    "# Algorithm: Gradient Descent"
   ]
  },
  {
   "cell_type": "markdown",
   "id": "711bc622",
   "metadata": {},
   "source": [
    "## Algorithm Introduction"
   ]
  },
  {
   "cell_type": "markdown",
   "id": "8768a67a",
   "metadata": {},
   "source": [
    "Minimize the **RSS**:\n",
    "$$\n",
    "\\min_{\\vec{w}}g(\\vec{w})\n",
    "$$\n",
    "by moving $w$ towards the negative gradient direction:\n",
    "$$\n",
    "w^{t+1} = w^{t}-\\eta_t\\frac{dg(w)}{dw}\n",
    "$$\n",
    "with step size:\n",
    "$$\n",
    "\\eta_t = \\frac{\\alpha}{t}\\\\ \\eta_t = \\frac{\\alpha}{\\sqrt{t}}\n",
    "$$\n",
    "until convergence:\n",
    "$$\n",
    "|\\frac{dg(w)}{dw}|<\\epsilon\n",
    "$$"
   ]
  },
  {
   "cell_type": "markdown",
   "id": "bdb593a8",
   "metadata": {},
   "source": [
    "## Algorithm Construct"
   ]
  },
  {
   "cell_type": "markdown",
   "id": "2fe4a4eb",
   "metadata": {},
   "source": [
    "**Goal**: Perform Gradient Descent on inputted function and training set.\n",
    "\n",
    "**Input**:\n",
    "- X: training set X\n",
    "- y: training set y\n",
    "- alpha: step size\n",
    "- theta: threshold\n",
    "- N: max number of iterations\n",
    "- g: loss function\n",
    "- dg: derivative of loss function\n",
    "\n",
    "**Output**: \n",
    "- w: weights"
   ]
  },
  {
   "cell_type": "code",
   "execution_count": 43,
   "id": "ca5738c9",
   "metadata": {
    "ExecuteTime": {
     "end_time": "2022-03-08T22:56:56.425069Z",
     "start_time": "2022-03-08T22:56:56.408115Z"
    }
   },
   "outputs": [],
   "source": [
    "class Gradient_Descent:\n",
    "    def __init__(self,X,y,g,dg):\n",
    "        self.rs = RandomState(2022)\n",
    "        self.X = X\n",
    "        self.y = y\n",
    "        self.g = g\n",
    "        self.dg = dg\n",
    "        \n",
    "    def plot_loss(self,loss,c):\n",
    "        ax = plt.gca()\n",
    "        ax.set_title('Loss')\n",
    "        ax.plot(np.arange(c),loss)\n",
    "        plt.show()\n",
    "    \n",
    "    def run(self,alpha,theta,N):\n",
    "        D = len(self.X[0]) # Dimension\n",
    "        w = self.rs.rand(D) # initiate random weights 1xD vector\n",
    "        dw = np.array([np.inf for i in range(D)]) # initiate large graident to prevent terminating in the beginning 1xD vector\n",
    "        c = 0 # counter\n",
    "        loss = []\n",
    "        while np.linalg.norm(dw)>theta and c<N: # Terminatates when gradient is less than threshhold or count exceeds max iteration.\n",
    "            dw = self.dg(self.X, self.y, w)\n",
    "            new_w = w - alpha*dw\n",
    "            w = new_w\n",
    "            c += 1\n",
    "            l = self.g(self.X,self.y,w)\n",
    "            loss.append(l)\n",
    "        self.plot_loss(loss,c)\n",
    "        print(np.linalg.norm(dw))\n",
    "        print(f\"Iteration: {c} MSE ends at {l}\")\n",
    "        return w"
   ]
  },
  {
   "cell_type": "markdown",
   "id": "0ae852e9",
   "metadata": {},
   "source": [
    "# Model: Linear Regression"
   ]
  },
  {
   "cell_type": "markdown",
   "id": "45cc2fe7",
   "metadata": {
    "ExecuteTime": {
     "end_time": "2022-03-01T20:09:57.213575Z",
     "start_time": "2022-03-01T20:09:57.203601Z"
    }
   },
   "source": [
    "- **Goal**: Find best fit $f(x)$ that predicts y using $\\vec{x}$ that minimizes the **MSE(Mean Square Error)**/**RSS(Residual Sum of Squares)**.\n",
    "- **Function**: $h(x^{(i)}) = \\hat{y^{(i)}} = \\sum_{j=0}^{D}w_jx^{(i)}$\n",
    "- **Loss**: Loss is the difference between true y and predicted y $y-\\hat{y}$\n",
    "    - **Residual Sum of Squares**: $\\sum_{i=1}^{N}(y^{(i)}-h(x^{(i)}))^2$\n",
    "    - **Mean Square Error**: $\\frac{RSS}{N}$"
   ]
  },
  {
   "cell_type": "markdown",
   "id": "2168ed47",
   "metadata": {},
   "source": [
    "- Alternative Way: $w^* = (DD^T)^{-1}Dy$"
   ]
  },
  {
   "cell_type": "markdown",
   "id": "fcddd6a3",
   "metadata": {},
   "source": [
    "## Function"
   ]
  },
  {
   "cell_type": "markdown",
   "id": "7aef4039",
   "metadata": {},
   "source": [
    "**Input**:\n",
    "- X: X\n",
    "- w: weights\n",
    "\n",
    "**Output**:\n",
    "- result: $h(x) = \\hat{y} = Xw$"
   ]
  },
  {
   "cell_type": "code",
   "execution_count": 234,
   "id": "1bdcbc8e",
   "metadata": {
    "ExecuteTime": {
     "end_time": "2022-03-07T22:22:44.269260Z",
     "start_time": "2022-03-07T22:22:44.259287Z"
    }
   },
   "outputs": [],
   "source": [
    "def h(X,w): # X is NxD, w is 1xD\n",
    "    result = X@w.T\n",
    "    return result"
   ]
  },
  {
   "cell_type": "markdown",
   "id": "97b195f7",
   "metadata": {},
   "source": [
    "## Loss Function"
   ]
  },
  {
   "cell_type": "markdown",
   "id": "441feaf7",
   "metadata": {},
   "source": [
    "Going to use Mean Square Error as the Loss Function"
   ]
  },
  {
   "cell_type": "code",
   "execution_count": 235,
   "id": "42436e49",
   "metadata": {
    "ExecuteTime": {
     "end_time": "2022-03-07T22:22:46.757604Z",
     "start_time": "2022-03-07T22:22:46.746633Z"
    }
   },
   "outputs": [],
   "source": [
    "def MSE(X,y,w):# X is NxD, w is 1xD, y is Nx1\n",
    "    rss = np.sum(np.square(y-h(X,w)))\n",
    "    mse = rss/len(X)\n",
    "    return mse"
   ]
  },
  {
   "cell_type": "markdown",
   "id": "87d00a21",
   "metadata": {},
   "source": [
    "### Gradient of Loss Function"
   ]
  },
  {
   "cell_type": "markdown",
   "id": "f168ac1e",
   "metadata": {},
   "source": [
    "Loss Function:$g = \\frac{1}{N}\\sum_{i=1}^{N}(h(x^{(i)})-y^{(i)})^2$\n",
    "\n",
    "Where its partial derivative with respect to $j^{th} w$: $\\frac{dg}{dw_j} = \\frac{2}{N}\\sum_{i=1}^{N}(h(x^{(i)})-y^{(i)})x^{(i)}_j$"
   ]
  },
  {
   "cell_type": "code",
   "execution_count": 236,
   "id": "085af9ce",
   "metadata": {
    "ExecuteTime": {
     "end_time": "2022-03-07T22:22:47.349022Z",
     "start_time": "2022-03-07T22:22:47.331070Z"
    }
   },
   "outputs": [],
   "source": [
    "def dMSE(X,y,w):\n",
    "    m = len(X)\n",
    "    d = len(X[0])\n",
    "    dw = np.array([(2/m)*np.sum((h(X,w)-y)@X[:,j]) for j in range(d)])\n",
    "    return dw"
   ]
  },
  {
   "cell_type": "markdown",
   "id": "3ab85970",
   "metadata": {},
   "source": [
    "## Application"
   ]
  },
  {
   "cell_type": "markdown",
   "id": "75a6679c",
   "metadata": {},
   "source": [
    "### Data Preparation"
   ]
  },
  {
   "cell_type": "code",
   "execution_count": 237,
   "id": "4a32bad1",
   "metadata": {
    "ExecuteTime": {
     "end_time": "2022-03-07T22:22:47.984322Z",
     "start_time": "2022-03-07T22:22:47.970360Z"
    }
   },
   "outputs": [],
   "source": [
    "m = len(r_data)"
   ]
  },
  {
   "cell_type": "markdown",
   "id": "ca56a182",
   "metadata": {},
   "source": [
    "Insert a column of 1s at the beginning of X."
   ]
  },
  {
   "cell_type": "code",
   "execution_count": 238,
   "id": "a667cf86",
   "metadata": {
    "ExecuteTime": {
     "end_time": "2022-03-07T22:22:48.405198Z",
     "start_time": "2022-03-07T22:22:48.388243Z"
    }
   },
   "outputs": [],
   "source": [
    "r_data = np.c_[np.ones((m,1)),r_data]"
   ]
  },
  {
   "cell_type": "markdown",
   "id": "3d2252c6",
   "metadata": {},
   "source": [
    "Split data into X and y."
   ]
  },
  {
   "cell_type": "code",
   "execution_count": 239,
   "id": "45d29018",
   "metadata": {
    "ExecuteTime": {
     "end_time": "2022-03-07T22:22:49.103329Z",
     "start_time": "2022-03-07T22:22:49.091362Z"
    }
   },
   "outputs": [],
   "source": [
    "X = r_data[:,:-1]\n",
    "y = r_data[:,-1]"
   ]
  },
  {
   "cell_type": "markdown",
   "id": "44f898f6",
   "metadata": {},
   "source": [
    "### Run"
   ]
  },
  {
   "cell_type": "code",
   "execution_count": 240,
   "id": "4ddf4d5b",
   "metadata": {
    "ExecuteTime": {
     "end_time": "2022-03-07T22:22:52.113278Z",
     "start_time": "2022-03-07T22:22:52.106296Z"
    }
   },
   "outputs": [],
   "source": [
    "LR_train = Gradient_Descent(X[:2400],y[:2400],MSE,dMSE)"
   ]
  },
  {
   "cell_type": "code",
   "execution_count": 242,
   "id": "b684f600",
   "metadata": {
    "ExecuteTime": {
     "end_time": "2022-03-07T22:23:12.961507Z",
     "start_time": "2022-03-07T22:23:12.403001Z"
    }
   },
   "outputs": [
    {
     "data": {
      "image/png": "[encoded data removed]",
      "text/plain": [
       "<Figure size 432x288 with 1 Axes>"
      ]
     },
     "metadata": {
      "needs_background": "light"
     },
     "output_type": "display_data"
    },
    {
     "name": "stdout",
     "output_type": "stream",
     "text": [
      "Iteration: 5000 MSE ends at 0.039617908799452956\n"
     ]
    }
   ],
   "source": [
    "w = LR_train.run(alpha=1e-2,theta=1e-4,N=5000)"
   ]
  },
  {
   "cell_type": "code",
   "execution_count": 243,
   "id": "0255f360",
   "metadata": {
    "ExecuteTime": {
     "end_time": "2022-03-07T22:23:47.041380Z",
     "start_time": "2022-03-07T22:23:47.027418Z"
    }
   },
   "outputs": [
    {
     "data": {
      "text/plain": [
       "array([-0.00710663,  1.1054901 ,  4.01405851])"
      ]
     },
     "execution_count": 243,
     "metadata": {},
     "output_type": "execute_result"
    }
   ],
   "source": [
    "w"
   ]
  },
  {
   "cell_type": "markdown",
   "id": "dcc30c24",
   "metadata": {},
   "source": [
    "### Test"
   ]
  },
  {
   "cell_type": "code",
   "execution_count": 244,
   "id": "c014e1dc",
   "metadata": {
    "ExecuteTime": {
     "end_time": "2022-03-07T22:24:20.408122Z",
     "start_time": "2022-03-07T22:24:20.395157Z"
    }
   },
   "outputs": [],
   "source": [
    "def predict_LNR(X,w):\n",
    "    result = X@w\n",
    "    return result"
   ]
  },
  {
   "cell_type": "code",
   "execution_count": 245,
   "id": "b0d9da97",
   "metadata": {
    "ExecuteTime": {
     "end_time": "2022-03-07T22:24:20.764170Z",
     "start_time": "2022-03-07T22:24:20.756192Z"
    }
   },
   "outputs": [
    {
     "data": {
      "text/plain": [
       "array([3.55984163, 3.07020817, 1.83274012, ..., 1.88111492, 4.12165041,\n",
       "       0.69212904])"
      ]
     },
     "execution_count": 245,
     "metadata": {},
     "output_type": "execute_result"
    }
   ],
   "source": [
    "predict_LNR(X,w)"
   ]
  },
  {
   "cell_type": "code",
   "execution_count": 246,
   "id": "59b05c75",
   "metadata": {
    "ExecuteTime": {
     "end_time": "2022-03-07T22:24:23.512817Z",
     "start_time": "2022-03-07T22:24:23.498855Z"
    }
   },
   "outputs": [
    {
     "data": {
      "text/plain": [
       "0.0385457333534492"
      ]
     },
     "execution_count": 246,
     "metadata": {},
     "output_type": "execute_result"
    }
   ],
   "source": [
    "MSE(X[2400:],y[2400:],w)"
   ]
  },
  {
   "cell_type": "markdown",
   "id": "a4b14a0a",
   "metadata": {},
   "source": [
    "# Model: Logistic Regression"
   ]
  },
  {
   "cell_type": "markdown",
   "id": "cf621663",
   "metadata": {
    "ExecuteTime": {
     "end_time": "2022-03-01T20:09:57.213575Z",
     "start_time": "2022-03-01T20:09:57.203601Z"
    }
   },
   "source": [
    "- **Goal**: Find best fit $f(x)$ that predicts y using $\\vec{x}$ that maximizes the probability reward.\n",
    "- **Function**: $h(x^{(i)}) = \\hat{y^{(i)}} = \\theta(\\sum_{j=0}^{D}w_jx^{(i)}) = \\theta(w^Tx^{(i)})$\n",
    "- **Loss**: Loss is the negative reward given to the prediction probability.\n",
    "    - if $y=1$, reward is $\\theta(w^Tx^{(i)})$.\n",
    "    - if $y=-1$, reward is $-\\theta(w^Tx^{(i)})=\\theta(-w^Tx^{(i)}))$.\n",
    "    \n",
    "Which is equal to $\\theta(y^{(i)}w^Tx^{(i)})$.\n",
    "Reward is then aggregated into: \n",
    "$$\n",
    "\\prod_{i=1}^{N}\\theta(y^{(i)}w^Tx^{(i)})=\\frac{1}{N}\\sum_{i=1}^{N}log\\theta(y^{(i)}w^Tx^{(i)})\n",
    "$$\n",
    "or\n",
    "$$\n",
    "\\frac{1}{N}\\sum_{i=1}^{N}[y^{(i)}log(\\theta(w^Tx^{(i)}))]+[(1-y^{(i)})log(1-\\theta(w^Tx^{(i)}))]\n",
    "$$"
   ]
  },
  {
   "cell_type": "markdown",
   "id": "4dcaea45",
   "metadata": {},
   "source": [
    "## Function"
   ]
  },
  {
   "cell_type": "markdown",
   "id": "f916f59b",
   "metadata": {},
   "source": [
    "Sigmoid function is used to generalize the sum function to a probability score within the range of 1 and 0:\n",
    "$$\n",
    "\\theta(x) = \\frac{1}{1+e^{-x}}\n",
    "$$\n",
    "\n",
    "**Input**:\n",
    "- X: X\n",
    "- w: weights\n",
    "\n",
    "**Output**:\n",
    "- result: $h(x) = \\hat{y} = \\theta(Xw)$"
   ]
  },
  {
   "cell_type": "code",
   "execution_count": 7,
   "id": "e2aa7581",
   "metadata": {
    "ExecuteTime": {
     "end_time": "2022-03-08T22:50:56.826703Z",
     "start_time": "2022-03-08T22:50:56.808751Z"
    }
   },
   "outputs": [],
   "source": [
    "def sigmoid(x): # input x: Nx1\n",
    "    result = 1/(1+np.exp(-x))\n",
    "    return result\n",
    "\n",
    "def h(X,w): # X is NxD, w is 1xD\n",
    "    result = X@w.T\n",
    "    return result"
   ]
  },
  {
   "cell_type": "markdown",
   "id": "1c426503",
   "metadata": {},
   "source": [
    "## Loss Function"
   ]
  },
  {
   "cell_type": "markdown",
   "id": "fed6258b",
   "metadata": {},
   "source": [
    "Going to use Mean Square Error as the Loss Function"
   ]
  },
  {
   "cell_type": "code",
   "execution_count": 65,
   "id": "451584f1",
   "metadata": {
    "ExecuteTime": {
     "end_time": "2022-03-08T23:00:54.373582Z",
     "start_time": "2022-03-08T23:00:54.367598Z"
    }
   },
   "outputs": [],
   "source": [
    "# for -1/1 Classification\n",
    "def MLE(X,y,w):# X is NxD, w is 1xD, y is Nx1\n",
    "    m = len(y)\n",
    "    reward = -np.sum(np.log(sigmoid(y*h(X,w)))) / m\n",
    "    return reward"
   ]
  },
  {
   "cell_type": "code",
   "execution_count": 9,
   "id": "fa51519c",
   "metadata": {
    "ExecuteTime": {
     "end_time": "2022-03-08T22:50:57.585674Z",
     "start_time": "2022-03-08T22:50:57.575701Z"
    }
   },
   "outputs": [],
   "source": [
    "# for 0/1 Classification\n",
    "def MLE(X,y,w):# X is NxD, w is 1xD, y is Nx1\n",
    "    s = sigmoid(h(X,w))\n",
    "    if s.any()<= 0:\n",
    "        print(s)\n",
    "    m = len(y)\n",
    "    reward = np.sum(-(y * np.log(s) + (1 - y) * np.log(1 - s))) / m\n",
    "    return reward"
   ]
  },
  {
   "cell_type": "markdown",
   "id": "f0a064d6",
   "metadata": {},
   "source": [
    "### Gradient of Loss Function"
   ]
  },
  {
   "cell_type": "markdown",
   "id": "a10d5551",
   "metadata": {},
   "source": [
    "Loss Function:$g = \\frac{1}{N}\\sum_{i=1}^{N}log\\frac{1}{1+e^{-(y_iw^Tx^{(i)})}}$\n",
    "\n",
    "Gradient: \n",
    "$$\n",
    "\\frac{dg}{dw} = -\\frac{1}{N}\\sum_{i=1}^{N}\\frac{y^{(i)}x^{(i)}}{1+e^{-(y_iw^Tx^{(i)})}}\n",
    "$$\n",
    "or\n",
    "$$\n",
    "\\frac{dg}{dw} = -\\frac{1}{N}(\\theta(Xw)-y)X\n",
    "$$"
   ]
  },
  {
   "cell_type": "code",
   "execution_count": 100,
   "id": "0a749100",
   "metadata": {
    "ExecuteTime": {
     "end_time": "2022-03-08T23:12:37.505172Z",
     "start_time": "2022-03-08T23:12:37.488217Z"
    }
   },
   "outputs": [],
   "source": [
    "# for -1/1 Classification\n",
    "def dMLE(X,y,w):\n",
    "    m = len(X)\n",
    "    d = len(X[0])\n",
    "    temp = []\n",
    "    temp = (y.reshape(-1,1)*X)*sigmoid(y*h(X,w)).reshape(-1,1)\n",
    "    dw = (1/m)*np.sum(temp,axis=0)\n",
    "    return dw"
   ]
  },
  {
   "cell_type": "code",
   "execution_count": 57,
   "id": "703fa84a",
   "metadata": {
    "ExecuteTime": {
     "end_time": "2022-03-08T23:00:06.810779Z",
     "start_time": "2022-03-08T23:00:06.806789Z"
    }
   },
   "outputs": [],
   "source": [
    "# for 0/1 Classification\n",
    "def dMLE(X,y,w):\n",
    "    m = len(X)\n",
    "    d = len(X[0])\n",
    "    s = sigmoid(h(X,w))\n",
    "    dw = (1/m)*(X.T@(s-y))\n",
    "    return dw"
   ]
  },
  {
   "cell_type": "markdown",
   "id": "73bc56d5",
   "metadata": {},
   "source": [
    "## Application"
   ]
  },
  {
   "cell_type": "markdown",
   "id": "579376b7",
   "metadata": {},
   "source": [
    "### Data Preparation"
   ]
  },
  {
   "cell_type": "code",
   "execution_count": 90,
   "id": "66ff5c84",
   "metadata": {
    "ExecuteTime": {
     "end_time": "2022-03-08T23:08:35.645455Z",
     "start_time": "2022-03-08T23:08:35.632490Z"
    }
   },
   "outputs": [],
   "source": [
    "m = len(c_data)"
   ]
  },
  {
   "cell_type": "markdown",
   "id": "0a906dfd",
   "metadata": {},
   "source": [
    "Insert a column of 1s at the beginning of X."
   ]
  },
  {
   "cell_type": "code",
   "execution_count": 91,
   "id": "73965e57",
   "metadata": {
    "ExecuteTime": {
     "end_time": "2022-03-08T23:08:36.019992Z",
     "start_time": "2022-03-08T23:08:36.007027Z"
    }
   },
   "outputs": [],
   "source": [
    "X = np.c_[np.ones((m,1)),c_data[:,:3]]\n",
    "y = c_data[:,-1]\n",
    "#y = np.array([int(i>0) for i in y])"
   ]
  },
  {
   "cell_type": "markdown",
   "id": "18bb01a8",
   "metadata": {},
   "source": [
    "### Run"
   ]
  },
  {
   "cell_type": "code",
   "execution_count": 101,
   "id": "6f1c43e0",
   "metadata": {
    "ExecuteTime": {
     "end_time": "2022-03-08T23:13:05.931546Z",
     "start_time": "2022-03-08T23:13:05.927557Z"
    }
   },
   "outputs": [],
   "source": [
    "training_size = int(m*0.8)\n",
    "LGR_train = Gradient_Descent(X[:training_size],y[:training_size],MLE,dMLE)"
   ]
  },
  {
   "cell_type": "code",
   "execution_count": 116,
   "id": "c3aa8f5b",
   "metadata": {
    "ExecuteTime": {
     "end_time": "2022-03-08T23:19:01.833401Z",
     "start_time": "2022-03-08T23:19:01.527220Z"
    }
   },
   "outputs": [
    {
     "data": {
      "image/png": "[encoded data removed]",
      "text/plain": [
       "<Figure size 432x288 with 1 Axes>"
      ]
     },
     "metadata": {
      "needs_background": "light"
     },
     "output_type": "display_data"
    },
    {
     "name": "stdout",
     "output_type": "stream",
     "text": [
      "0.0009995473464741238\n",
      "Iteration: 1395 MSE ends at 0.6959498888941883\n"
     ]
    }
   ],
   "source": [
    "w = LGR_train.run(alpha=1e-1,theta=1e-3,N=7000)"
   ]
  },
  {
   "cell_type": "markdown",
   "id": "8a3d3f4f",
   "metadata": {
    "ExecuteTime": {
     "end_time": "2022-03-02T22:53:51.913162Z",
     "start_time": "2022-03-02T22:53:51.907178Z"
    }
   },
   "source": [
    "### Test"
   ]
  },
  {
   "cell_type": "code",
   "execution_count": 117,
   "id": "28899246",
   "metadata": {
    "ExecuteTime": {
     "end_time": "2022-03-08T23:19:02.723021Z",
     "start_time": "2022-03-08T23:19:02.710056Z"
    }
   },
   "outputs": [],
   "source": [
    "def predict_LGR(X,w):\n",
    "    prob = sigmoid(h(X,w))\n",
    "    pred = np.array([-2+int(p>=0) for p in prob])\n",
    "    return pred"
   ]
  },
  {
   "cell_type": "code",
   "execution_count": 118,
   "id": "4b37791c",
   "metadata": {
    "ExecuteTime": {
     "end_time": "2022-03-08T23:19:03.139908Z",
     "start_time": "2022-03-08T23:19:03.131928Z"
    }
   },
   "outputs": [],
   "source": [
    "def accuracy_LGR(X,y,w):\n",
    "    pred = predict_LGR(X,w)\n",
    "    accuracy = sum(pred==y)/len(y)\n",
    "    return accuracy"
   ]
  },
  {
   "cell_type": "code",
   "execution_count": 119,
   "id": "7de3b579",
   "metadata": {
    "ExecuteTime": {
     "end_time": "2022-03-08T23:19:03.434119Z",
     "start_time": "2022-03-08T23:19:03.418163Z"
    }
   },
   "outputs": [
    {
     "data": {
      "text/plain": [
       "0.506"
      ]
     },
     "execution_count": 119,
     "metadata": {},
     "output_type": "execute_result"
    }
   ],
   "source": [
    "accuracy_LGR(X,y,w.reshape(1,-1))"
   ]
  },
  {
   "cell_type": "code",
   "execution_count": 120,
   "id": "ebbc0905",
   "metadata": {
    "ExecuteTime": {
     "end_time": "2022-03-08T23:19:03.984646Z",
     "start_time": "2022-03-08T23:19:03.967692Z"
    }
   },
   "outputs": [
    {
     "data": {
      "text/plain": [
       "array([-1, -1, -1, -1, -1, -1, -1, -1, -1, -1, -1, -1, -1, -1, -1, -1, -1,\n",
       "       -1, -1, -1])"
      ]
     },
     "execution_count": 120,
     "metadata": {},
     "output_type": "execute_result"
    }
   ],
   "source": [
    "predict_LGR(X[:20],w)"
   ]
  },
  {
   "cell_type": "markdown",
   "id": "9148c52a",
   "metadata": {},
   "source": [
    "The accuracy is very low. Going to try SKLearn."
   ]
  },
  {
   "cell_type": "code",
   "execution_count": 562,
   "id": "ce243acf",
   "metadata": {
    "ExecuteTime": {
     "end_time": "2022-03-08T00:11:27.223390Z",
     "start_time": "2022-03-08T00:11:27.209424Z"
    }
   },
   "outputs": [],
   "source": [
    "from sklearn.linear_model import LogisticRegression"
   ]
  },
  {
   "cell_type": "code",
   "execution_count": 563,
   "id": "7f15c994",
   "metadata": {
    "ExecuteTime": {
     "end_time": "2022-03-08T00:11:27.254304Z",
     "start_time": "2022-03-08T00:11:27.240342Z"
    }
   },
   "outputs": [],
   "source": [
    "LGR = LogisticRegression(random_state=0).fit(X, y)"
   ]
  },
  {
   "cell_type": "code",
   "execution_count": 564,
   "id": "e4e65ca0",
   "metadata": {
    "ExecuteTime": {
     "end_time": "2022-03-08T00:11:27.378970Z",
     "start_time": "2022-03-08T00:11:27.368997Z"
    }
   },
   "outputs": [
    {
     "data": {
      "text/plain": [
       "0.5295"
      ]
     },
     "execution_count": 564,
     "metadata": {},
     "output_type": "execute_result"
    }
   ],
   "source": [
    "LGR.score(X, y)"
   ]
  },
  {
   "cell_type": "markdown",
   "id": "7936745e",
   "metadata": {},
   "source": [
    "# Neural Network - Perceptron Learning"
   ]
  },
  {
   "cell_type": "markdown",
   "id": "5b081e7c",
   "metadata": {},
   "source": [
    "**Goal**: Use Multiple Perceptrons to accomplish more complex classifications.\n",
    "1. Dynamic Programming for efficiently computing the gradient.\n",
    "    - Storing the outputs of subproblems and avoid re-calculating.\n",
    "2. Stochastic Gradient Descent"
   ]
  },
  {
   "cell_type": "markdown",
   "id": "a3b8fb99",
   "metadata": {},
   "source": [
    "Iterations:\n",
    "1. Compute $x^{(l)}_j$ for all $1\\leq l \\leq L$,$1\\leq j \\leq d^{(l)}$ in the forward direction:\n",
    "$$\n",
    "x^{(l)}_j = \\theta(\\sum_{i=0}^{d^{l-1}}w^{(l)}_{ij}x^{(l-1)}_i)\n",
    "$$\n",
    "2. Compute $\\delta^{(l)}_i$ for all $1\\leq l \\leq L$,$1\\leq i \\leq d^{(l)}$ in the reverse direction:\n",
    "$$\n",
    "\\delta^{(l-1)}_i = (1-\\theta(x^{(l-1)}_i)^2)(\\sum_{j=0}^{d^{l-1}}w^{(l)}_{ij}\\delta^{(l)}_j)\n",
    "$$\n",
    "Base case:\n",
    "$$\n",
    "\\delta^{(L)}_i = 2(\\theta(x^{(L)}_i)-y)(1-\\theta(x^{(L)}_i)^2)\n",
    "$$\n",
    "3. For each $w^{(l)}_{ij}$:\n",
    "$$\n",
    "w^{(l)}_{ij} = w^{(l)}_{ij}-\\eta \\delta^{(l)}_j x^{(l-1)}_i\n",
    "$$"
   ]
  },
  {
   "cell_type": "markdown",
   "id": "fa99e6fe",
   "metadata": {},
   "source": [
    "## Model Script"
   ]
  },
  {
   "cell_type": "markdown",
   "id": "71d8d5ed",
   "metadata": {},
   "source": [
    "### Data Prep"
   ]
  },
  {
   "cell_type": "code",
   "execution_count": 4,
   "id": "ad1e46b8",
   "metadata": {
    "ExecuteTime": {
     "end_time": "2022-03-25T19:35:29.303793Z",
     "start_time": "2022-03-25T19:35:29.288834Z"
    }
   },
   "outputs": [],
   "source": [
    "m = len(c_data)\n",
    "X = np.c_[np.ones((m,1)),c_data[:,:3]]\n",
    "y = c_data[:,-2]\n",
    "rs = RandomState(0)"
   ]
  },
  {
   "cell_type": "markdown",
   "id": "cf365231",
   "metadata": {},
   "source": [
    "### Initialization"
   ]
  },
  {
   "cell_type": "markdown",
   "id": "d6a6aaca",
   "metadata": {},
   "source": [
    "Will be using 1 hidden layer with a number of neurons equals to the mean of input and output neuron numbers."
   ]
  },
  {
   "cell_type": "code",
   "execution_count": 5,
   "id": "58bfd5c2",
   "metadata": {
    "ExecuteTime": {
     "end_time": "2022-03-25T19:35:30.313939Z",
     "start_time": "2022-03-25T19:35:30.303949Z"
    }
   },
   "outputs": [],
   "source": [
    "def gen_d_list(Ni,No,Nn,Nh):\n",
    "    d_list = [Nn for l in range(Nh)]\n",
    "    d_list.insert(0,Ni)\n",
    "    d_list.append(No)\n",
    "    return d_list\n",
    "\n",
    "def init_w(d_list):\n",
    "    w_list = [rs.rand(d_list[i+1],d_list[i]) for i in range(len(d_list)-1)]\n",
    "    w_list.insert(0,None)\n",
    "    return w_list"
   ]
  },
  {
   "cell_type": "markdown",
   "id": "ffa4ebc7",
   "metadata": {},
   "source": [
    "### Iteration Updates"
   ]
  },
  {
   "cell_type": "code",
   "execution_count": 27,
   "id": "7425475f",
   "metadata": {
    "ExecuteTime": {
     "end_time": "2022-03-07T19:03:56.883035Z",
     "start_time": "2022-03-07T19:03:56.873062Z"
    }
   },
   "outputs": [],
   "source": [
    "theta = np.tanh"
   ]
  },
  {
   "cell_type": "code",
   "execution_count": 74,
   "id": "f810bdd6",
   "metadata": {
    "ExecuteTime": {
     "end_time": "2022-03-07T19:30:40.104502Z",
     "start_time": "2022-03-07T19:30:40.096524Z"
    }
   },
   "outputs": [],
   "source": [
    "# Compute all x in forward direction\n",
    "def update_x(x_in,w_list):\n",
    "    x_list= [x_in.reshape(1,4)]\n",
    "    for l in range(1,L+1):\n",
    "        z = x_list[l-1]@w_list[l].T # each x array should be 1xdi, w should be djxdi\n",
    "        hx = theta(z)\n",
    "        x_list.append(hx)\n",
    "    return x_list # output list of 1xdj"
   ]
  },
  {
   "cell_type": "code",
   "execution_count": 73,
   "id": "4b34e943",
   "metadata": {
    "ExecuteTime": {
     "end_time": "2022-03-07T19:30:36.217899Z",
     "start_time": "2022-03-07T19:30:36.198950Z"
    }
   },
   "outputs": [],
   "source": [
    "# Compute all delta in forward direction\n",
    "def update_delta(y_in,x_list,w_list):\n",
    "    delta_list = [0 for i in x_list]\n",
    "    delta_list[L] = 2*(x_list[L]-y_in)*(1-np.square(x_list[L]))\n",
    "    for l in reversed(range(1,L+1)):\n",
    "        delta = (1-(np.square(x_list[l-1])))*(delta_list[l]@w_list[l]) # delta should be 1xdj, w should be djxdi, result 1xdi\n",
    "        delta_list[l-1] = delta\n",
    "    return delta_list # output list of 1xdi"
   ]
  },
  {
   "cell_type": "code",
   "execution_count": 33,
   "id": "254435ff",
   "metadata": {
    "ExecuteTime": {
     "end_time": "2022-03-07T19:22:29.431699Z",
     "start_time": "2022-03-07T19:22:29.415743Z"
    }
   },
   "outputs": [],
   "source": [
    "# Update w\n",
    "def update_w(x_list,w_list,delta_list,alpha):\n",
    "    for l in range(1,L+1):\n",
    "        w = w_list[l] # djxdj\n",
    "        x = x_list[l-1] # 1xdi\n",
    "        delta = delta_list[l] # 1xdj\n",
    "        w = w-alpha*(delta.T*x)\n",
    "        w_list[l] = w\n",
    "    return w_list"
   ]
  },
  {
   "cell_type": "code",
   "execution_count": 95,
   "id": "2944841c",
   "metadata": {
    "ExecuteTime": {
     "end_time": "2022-03-07T19:36:39.961031Z",
     "start_time": "2022-03-07T19:36:39.951058Z"
    }
   },
   "outputs": [],
   "source": [
    "def predict_NNP(X,w_list):\n",
    "    hx = X\n",
    "    for l in range(1,L+1):\n",
    "        z = hx@w_list[l].T # X should be mxdi, w should be djxdi, result mxdj\n",
    "        hx = theta(z)\n",
    "    pred = np.array([-1+2*(int(p>=0)) for p in hx])\n",
    "    return pred"
   ]
  },
  {
   "cell_type": "code",
   "execution_count": 76,
   "id": "e5e72874",
   "metadata": {
    "ExecuteTime": {
     "end_time": "2022-03-07T19:31:05.639195Z",
     "start_time": "2022-03-07T19:31:05.631217Z"
    }
   },
   "outputs": [],
   "source": [
    "def accuracy_NNP(X,y,w_list):\n",
    "    pred = predict_NNP(X,w_list)\n",
    "    accuracy = sum(pred==y)/len(y)\n",
    "    return accuracy"
   ]
  },
  {
   "cell_type": "code",
   "execution_count": 6,
   "id": "4360d08c",
   "metadata": {
    "ExecuteTime": {
     "end_time": "2022-03-25T19:35:35.551484Z",
     "start_time": "2022-03-25T19:35:35.527518Z"
    }
   },
   "outputs": [],
   "source": [
    "class Neural_Network_Perceptron:\n",
    "    def __init__(self,X,y,Nh=1):\n",
    "        def gen_d_list(Ni,No,Nn,Nh):\n",
    "            d_list = [Nn for l in range(Nh)]\n",
    "            d_list.insert(0,Ni)\n",
    "            d_list.append(No)\n",
    "            return d_list\n",
    "\n",
    "        def init_w(d_list):\n",
    "            w_list = [self.rs.rand(d_list[i+1],d_list[i]) for i in range(len(d_list)-1)]\n",
    "            w_list.insert(0,None)\n",
    "            return w_list\n",
    "        self.theta = np.tanh\n",
    "        self.m = X.shape[0]\n",
    "        self.rs = RandomState(2022)\n",
    "        self.L = Nh+1\n",
    "        D = X.shape[1]\n",
    "        Ni = D # Number of Neurons in input layer\n",
    "        No = 1 # Number of Neurons in output layer\n",
    "        Nn = int((1+D)/2) # Number of Neurons in hidden layey\n",
    "        d_list = gen_d_list(Ni,No,Nn,Nh)\n",
    "        self.w_list = init_w(d_list)\n",
    "        self.X = X\n",
    "        self.y = y\n",
    "\n",
    "    def update_x(self,x_in): # Compute all x in forward direction\n",
    "        x_list= [x_in.reshape(1,4)]\n",
    "        for l in range(1,self.L+1):\n",
    "            z = x_list[l-1]@self.w_list[l].T # each x array should be 1xdi, w should be djxdi\n",
    "            hx = self.theta(z)\n",
    "            x_list.append(hx)\n",
    "        return x_list # output list of 1xdj\n",
    "    \n",
    "    \n",
    "    def update_delta(self,y_in,x_list): # Compute all delta in forward direction\n",
    "        delta_list = [0 for i in x_list]\n",
    "        delta_list[-1] = 2*(x_list[-1]-y_in)*(1-np.square(x_list[-1]))\n",
    "        for l in reversed(range(1,self.L+1)):\n",
    "            delta = (1-(np.square(x_list[l-1])))*(delta_list[l]@self.w_list[l]) # delta should be 1xdj, w should be djxdi, result 1xdi\n",
    "            delta_list[l-1] = delta\n",
    "        return delta_list # output list of 1xdi\n",
    "    \n",
    "    def update_w(self,x_list,delta_list,alpha): # Update w\n",
    "        for l in range(1,self.L+1):\n",
    "            w = self.w_list[l] # djxdj\n",
    "            x = x_list[l-1] # 1xdi\n",
    "            delta = delta_list[l] # 1xdj\n",
    "            w = w-alpha*(delta.T*x)\n",
    "            self.w_list[l] = w\n",
    "    \n",
    "    def predict_NNP(self):\n",
    "        hx = self.X\n",
    "        for l in range(1,self.L+1):\n",
    "            z = hx@self.w_list[l].T # X should be mxdi, w should be djxdi, result mxdj\n",
    "            hx = self.theta(z)\n",
    "        pred = np.array([-1+2*(int(p>=0)) for p in hx])\n",
    "        return pred\n",
    "    \n",
    "    def accuracy_NNP(self):\n",
    "        pred = self.predict_NNP()\n",
    "        accuracy = sum(pred==self.y)/self.m\n",
    "        return accuracy\n",
    "    \n",
    "    def fit(self,alpha,N):\n",
    "        for i in range(1,N+1):\n",
    "            random_p = self.rs.randint(0,self.m-1)\n",
    "            x_in = self.X[random_p] # random x point\n",
    "            y_in = self.y[random_p]\n",
    "            x_list = self.update_x(x_in)\n",
    "            delta_list = self.update_delta(y_in,x_list)\n",
    "            self.update_w(x_list,delta_list,alpha)\n",
    "            if i%int(N/10) == 0 or i == N:\n",
    "                print(f\"Iteration:{i}, Accuracy:{self.accuracy_NNP()}\")\n",
    "            i += 1\n",
    "        return self.w_list"
   ]
  },
  {
   "cell_type": "markdown",
   "id": "e1852655",
   "metadata": {},
   "source": [
    "### Test"
   ]
  },
  {
   "cell_type": "code",
   "execution_count": 7,
   "id": "9e03d8b1",
   "metadata": {
    "ExecuteTime": {
     "end_time": "2022-03-25T19:35:36.587400Z",
     "start_time": "2022-03-25T19:35:36.575433Z"
    }
   },
   "outputs": [],
   "source": [
    "my_NNP = Neural_Network_Perceptron(X,y,Nh=1)"
   ]
  },
  {
   "cell_type": "code",
   "execution_count": 9,
   "id": "4a607b93",
   "metadata": {
    "ExecuteTime": {
     "end_time": "2022-03-25T19:36:05.384374Z",
     "start_time": "2022-03-25T19:36:05.289626Z"
    }
   },
   "outputs": [
    {
     "name": "stdout",
     "output_type": "stream",
     "text": [
      "Iteration:100, Accuracy:0.9575\n",
      "Iteration:200, Accuracy:0.959\n",
      "Iteration:300, Accuracy:0.9615\n",
      "Iteration:400, Accuracy:0.9625\n",
      "Iteration:500, Accuracy:0.9555\n",
      "Iteration:600, Accuracy:0.948\n",
      "Iteration:700, Accuracy:0.973\n",
      "Iteration:800, Accuracy:0.9745\n",
      "Iteration:900, Accuracy:0.967\n",
      "Iteration:1000, Accuracy:0.961\n"
     ]
    }
   ],
   "source": [
    "w = my_NNP.fit(alpha=4e-3,N=1000)"
   ]
  },
  {
   "cell_type": "code",
   "execution_count": 12,
   "id": "8c68baae",
   "metadata": {
    "ExecuteTime": {
     "end_time": "2022-03-25T19:36:56.348656Z",
     "start_time": "2022-03-25T19:36:56.327696Z"
    }
   },
   "outputs": [
    {
     "data": {
      "text/plain": [
       "array([-1,  1, -1, ...,  1, -1, -1])"
      ]
     },
     "execution_count": 12,
     "metadata": {},
     "output_type": "execute_result"
    }
   ],
   "source": [
    "my_NNP.predict_NNP()"
   ]
  },
  {
   "cell_type": "markdown",
   "id": "1895638b",
   "metadata": {},
   "source": [
    "## Pocket Algorithm"
   ]
  },
  {
   "cell_type": "markdown",
   "id": "c47b27f7",
   "metadata": {},
   "source": [
    "By butting the best solution in the pocket during stochastic GD."
   ]
  },
  {
   "cell_type": "code",
   "execution_count": 215,
   "id": "aa2c1768",
   "metadata": {
    "ExecuteTime": {
     "end_time": "2022-03-07T22:10:16.037097Z",
     "start_time": "2022-03-07T22:10:16.029119Z"
    }
   },
   "outputs": [],
   "source": [
    "def pocket(w,w_best,acc,acc_best):\n",
    "    if acc>acc_best:\n",
    "        w_best = w\n",
    "        acc_best = acc\n",
    "    return w_best, acc_best"
   ]
  },
  {
   "cell_type": "code",
   "execution_count": 122,
   "id": "6ea4f186",
   "metadata": {
    "ExecuteTime": {
     "end_time": "2022-03-08T23:25:56.222112Z",
     "start_time": "2022-03-08T23:25:56.199173Z"
    }
   },
   "outputs": [],
   "source": [
    "class Neural_Network_Perceptron:\n",
    "    def __init__(self,X,y,Nh=1):\n",
    "        def gen_d_list(Ni,No,Nn,Nh):\n",
    "            d_list = [Nn for l in range(Nh)]\n",
    "            d_list.insert(0,Ni)\n",
    "            d_list.append(No)\n",
    "            return d_list\n",
    "\n",
    "        def init_w(d_list):\n",
    "            w_list = [self.rs.rand(d_list[i+1],d_list[i]) for i in range(len(d_list)-1)]\n",
    "            w_list.insert(0,None)\n",
    "            return w_list\n",
    "        self.theta = np.tanh\n",
    "        self.w_best = None\n",
    "        self.acc_best = 0\n",
    "        self.m = X.shape[0]\n",
    "        self.rs = RandomState(2022)\n",
    "        self.L = Nh+1\n",
    "        D = X.shape[1]\n",
    "        Ni = D # Number of Neurons in input layer\n",
    "        No = 1 # Number of Neurons in output layer\n",
    "        Nn = int((1+D)/2) # Number of Neurons in hidden layey\n",
    "        d_list = gen_d_list(Ni,No,Nn,Nh)\n",
    "        self.w_list = init_w(d_list)\n",
    "        self.acc = None\n",
    "        self.X = X\n",
    "        self.y = y\n",
    "\n",
    "    def update_x(self,x_in): # Compute all x in forward direction\n",
    "        x_list= [x_in.reshape(1,4)]\n",
    "        for l in range(1,self.L+1):\n",
    "            z = x_list[l-1]@self.w_list[l].T # each x array should be 1xdi, w should be djxdi\n",
    "            hx = self.theta(z)\n",
    "            x_list.append(hx)\n",
    "        return x_list # output list of 1xdj\n",
    "    \n",
    "    \n",
    "    def update_delta(self,y_in,x_list): # Compute all delta in forward direction\n",
    "        delta_list = [0 for i in x_list]\n",
    "        delta_list[-1] = 2*(x_list[-1]-y_in)*(1-np.square(x_list[-1]))\n",
    "        for l in reversed(range(1,self.L+1)):\n",
    "            delta = (1-(np.square(x_list[l-1])))*(delta_list[l]@self.w_list[l]) # delta should be 1xdj, w should be djxdi, result 1xdi\n",
    "            delta_list[l-1] = delta\n",
    "        return delta_list # output list of 1xdi\n",
    "    \n",
    "    def update_w(self,x_list,delta_list,alpha): # Update w\n",
    "        for l in range(1,self.L+1):\n",
    "            w = self.w_list[l] # djxdj\n",
    "            x = x_list[l-1] # 1xdi\n",
    "            delta = delta_list[l] # 1xdj\n",
    "            w = w-alpha*(delta.T*x)\n",
    "            self.w_list[l] = w\n",
    "    \n",
    "    def predict_NNP(self):\n",
    "        hx = self.X\n",
    "        for l in range(1,self.L+1):\n",
    "            z = hx@self.w_list[l].T # X should be mxdi, w should be djxdi, result mxdj\n",
    "            hx = self.theta(z)\n",
    "        pred = np.array([-1+2*(int(p>=0)) for p in hx])\n",
    "        return pred\n",
    "    \n",
    "    def accuracy_NNP(self):\n",
    "        pred = self.predict_NNP()\n",
    "        accuracy = sum(pred==self.y)/self.m\n",
    "        return accuracy\n",
    "    \n",
    "    def pocket(self):\n",
    "        if self.acc>self.acc_best:\n",
    "            self.w_best = self.w_list\n",
    "            self.acc_best = self.acc\n",
    "    \n",
    "    def fit(self,alpha,N):\n",
    "        for i in range(1,N+1):\n",
    "            random_p = self.rs.randint(0,self.m-1)\n",
    "            x_in = self.X[random_p] # random x point\n",
    "            y_in = self.y[random_p]\n",
    "            x_list = self.update_x(x_in)\n",
    "            delta_list = self.update_delta(y_in,x_list)\n",
    "            self.update_w(x_list,delta_list,alpha)\n",
    "            self.acc = self.accuracy_NNP()\n",
    "            self.pocket()\n",
    "            if i%int(N/10) == 0 or i == N:\n",
    "                print(f\"Iteration:{i}, Accuracy:{self.acc}\")\n",
    "            i += 1\n",
    "        return self.w_best, self.acc_best"
   ]
  },
  {
   "cell_type": "code",
   "execution_count": 228,
   "id": "7aead888",
   "metadata": {
    "ExecuteTime": {
     "end_time": "2022-03-07T22:19:45.949741Z",
     "start_time": "2022-03-07T22:19:45.940764Z"
    }
   },
   "outputs": [],
   "source": [
    "my_NNP_pocket = Neural_Network_Perceptron(X,y,Nh=1)"
   ]
  },
  {
   "cell_type": "code",
   "execution_count": 229,
   "id": "81902f56",
   "metadata": {
    "ExecuteTime": {
     "end_time": "2022-03-07T22:20:23.219041Z",
     "start_time": "2022-03-07T22:19:46.235974Z"
    },
    "scrolled": true
   },
   "outputs": [
    {
     "name": "stdout",
     "output_type": "stream",
     "text": [
      "Iteration:700, Accuracy:0.869\n",
      "Iteration:1400, Accuracy:0.9625\n",
      "Iteration:2100, Accuracy:0.972\n",
      "Iteration:2800, Accuracy:0.9915\n",
      "Iteration:3500, Accuracy:0.961\n",
      "Iteration:4200, Accuracy:0.9635\n",
      "Iteration:4900, Accuracy:0.9735\n",
      "Iteration:5600, Accuracy:0.982\n",
      "Iteration:6300, Accuracy:0.9735\n",
      "Iteration:7000, Accuracy:0.9915\n"
     ]
    },
    {
     "data": {
      "text/plain": [
       "([None,\n",
       "  array([[-0.03938579,  2.14097998, -1.67675918, -1.24077207],\n",
       "         [ 0.64577848,  0.4923601 ,  0.87221983,  0.62140206]]),\n",
       "  array([[ 3.1109982 , -0.04472031]])],\n",
       " 0.999)"
      ]
     },
     "execution_count": 229,
     "metadata": {},
     "output_type": "execute_result"
    }
   ],
   "source": [
    "my_NNP_pocket.fit(alpha=4e-3,N=7000)"
   ]
  },
  {
   "cell_type": "code",
   "execution_count": null,
   "id": "a0a12d1c",
   "metadata": {},
   "outputs": [],
   "source": []
  }
 ],
 "metadata": {
  "kernelspec": {
   "display_name": "Python 3 (ipykernel)",
   "language": "python",
   "name": "python3"
  },
  "language_info": {
   "codemirror_mode": {
    "name": "ipython",
    "version": 3
   },
   "file_extension": ".py",
   "mimetype": "text/x-python",
   "name": "python",
   "nbconvert_exporter": "python",
   "pygments_lexer": "ipython3",
   "version": "3.9.7"
  },
  "toc": {
   "base_numbering": 1,
   "nav_menu": {},
   "number_sections": true,
   "sideBar": true,
   "skip_h1_title": false,
   "title_cell": "Table of Contents",
   "title_sidebar": "Contents",
   "toc_cell": false,
   "toc_position": {},
   "toc_section_display": true,
   "toc_window_display": false
  },
  "varInspector": {
   "cols": {
    "lenName": 16,
    "lenType": 16,
    "lenVar": 40
   },
   "kernels_config": {
    "python": {
     "delete_cmd_postfix": "",
     "delete_cmd_prefix": "del ",
     "library": "var_list.py",
     "varRefreshCmd": "print(var_dic_list())"
    },
    "r": {
     "delete_cmd_postfix": ") ",
     "delete_cmd_prefix": "rm(",
     "library": "var_list.r",
     "varRefreshCmd": "cat(var_dic_list()) "
    }
   },
   "types_to_exclude": [
    "module",
    "function",
    "builtin_function_or_method",
    "instance",
    "_Feature"
   ],
   "window_display": false
  }
 },
 "nbformat": 4,
 "nbformat_minor": 5
}
